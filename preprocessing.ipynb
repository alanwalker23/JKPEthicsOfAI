{
 "cells": [
  {
   "cell_type": "code",
   "execution_count": 1,
   "id": "8b6f0495",
   "metadata": {},
   "outputs": [
    {
     "name": "stderr",
     "output_type": "stream",
     "text": [
      "C:\\Users\\Keith\\anaconda3\\lib\\site-packages\\pandas\\core\\computation\\expressions.py:21: UserWarning: Pandas requires version '2.8.4' or newer of 'numexpr' (version '2.7.3' currently installed).\n",
      "  from pandas.core.computation.check import NUMEXPR_INSTALLED\n",
      "C:\\Users\\Keith\\anaconda3\\lib\\site-packages\\pandas\\core\\arrays\\masked.py:60: UserWarning: Pandas requires version '1.3.6' or newer of 'bottleneck' (version '1.3.2' currently installed).\n",
      "  from pandas.core import (\n"
     ]
    }
   ],
   "source": [
    "import pandas as pd\n",
    "df = pd.read_csv('data/compas-scores-raw.csv')"
   ]
  },
  {
   "cell_type": "code",
   "execution_count": 2,
   "id": "43393f5a",
   "metadata": {},
   "outputs": [
    {
     "data": {
      "text/html": [
       "<div>\n",
       "<style scoped>\n",
       "    .dataframe tbody tr th:only-of-type {\n",
       "        vertical-align: middle;\n",
       "    }\n",
       "\n",
       "    .dataframe tbody tr th {\n",
       "        vertical-align: top;\n",
       "    }\n",
       "\n",
       "    .dataframe thead th {\n",
       "        text-align: right;\n",
       "    }\n",
       "</style>\n",
       "<table border=\"1\" class=\"dataframe\">\n",
       "  <thead>\n",
       "    <tr style=\"text-align: right;\">\n",
       "      <th></th>\n",
       "      <th>Person_ID</th>\n",
       "      <th>AssessmentID</th>\n",
       "      <th>Case_ID</th>\n",
       "      <th>Agency_Text</th>\n",
       "      <th>LastName</th>\n",
       "      <th>FirstName</th>\n",
       "      <th>MiddleName</th>\n",
       "      <th>Sex_Code_Text</th>\n",
       "      <th>Ethnic_Code_Text</th>\n",
       "      <th>DateOfBirth</th>\n",
       "      <th>...</th>\n",
       "      <th>RecSupervisionLevel</th>\n",
       "      <th>RecSupervisionLevelText</th>\n",
       "      <th>Scale_ID</th>\n",
       "      <th>DisplayText</th>\n",
       "      <th>RawScore</th>\n",
       "      <th>DecileScore</th>\n",
       "      <th>ScoreText</th>\n",
       "      <th>AssessmentType</th>\n",
       "      <th>IsCompleted</th>\n",
       "      <th>IsDeleted</th>\n",
       "    </tr>\n",
       "  </thead>\n",
       "  <tbody>\n",
       "    <tr>\n",
       "      <th>0</th>\n",
       "      <td>50844</td>\n",
       "      <td>57167</td>\n",
       "      <td>51950</td>\n",
       "      <td>PRETRIAL</td>\n",
       "      <td>Fisher</td>\n",
       "      <td>Kevin</td>\n",
       "      <td>NaN</td>\n",
       "      <td>Male</td>\n",
       "      <td>Caucasian</td>\n",
       "      <td>12/05/92</td>\n",
       "      <td>...</td>\n",
       "      <td>1</td>\n",
       "      <td>Low</td>\n",
       "      <td>7</td>\n",
       "      <td>Risk of Violence</td>\n",
       "      <td>-2.08</td>\n",
       "      <td>4</td>\n",
       "      <td>Low</td>\n",
       "      <td>New</td>\n",
       "      <td>1</td>\n",
       "      <td>0</td>\n",
       "    </tr>\n",
       "    <tr>\n",
       "      <th>1</th>\n",
       "      <td>50844</td>\n",
       "      <td>57167</td>\n",
       "      <td>51950</td>\n",
       "      <td>PRETRIAL</td>\n",
       "      <td>Fisher</td>\n",
       "      <td>Kevin</td>\n",
       "      <td>NaN</td>\n",
       "      <td>Male</td>\n",
       "      <td>Caucasian</td>\n",
       "      <td>12/05/92</td>\n",
       "      <td>...</td>\n",
       "      <td>1</td>\n",
       "      <td>Low</td>\n",
       "      <td>8</td>\n",
       "      <td>Risk of Recidivism</td>\n",
       "      <td>-1.06</td>\n",
       "      <td>2</td>\n",
       "      <td>Low</td>\n",
       "      <td>New</td>\n",
       "      <td>1</td>\n",
       "      <td>0</td>\n",
       "    </tr>\n",
       "    <tr>\n",
       "      <th>2</th>\n",
       "      <td>50844</td>\n",
       "      <td>57167</td>\n",
       "      <td>51950</td>\n",
       "      <td>PRETRIAL</td>\n",
       "      <td>Fisher</td>\n",
       "      <td>Kevin</td>\n",
       "      <td>NaN</td>\n",
       "      <td>Male</td>\n",
       "      <td>Caucasian</td>\n",
       "      <td>12/05/92</td>\n",
       "      <td>...</td>\n",
       "      <td>1</td>\n",
       "      <td>Low</td>\n",
       "      <td>18</td>\n",
       "      <td>Risk of Failure to Appear</td>\n",
       "      <td>15.00</td>\n",
       "      <td>1</td>\n",
       "      <td>Low</td>\n",
       "      <td>New</td>\n",
       "      <td>1</td>\n",
       "      <td>0</td>\n",
       "    </tr>\n",
       "    <tr>\n",
       "      <th>3</th>\n",
       "      <td>50848</td>\n",
       "      <td>57174</td>\n",
       "      <td>51956</td>\n",
       "      <td>PRETRIAL</td>\n",
       "      <td>KENDALL</td>\n",
       "      <td>KEVIN</td>\n",
       "      <td>NaN</td>\n",
       "      <td>Male</td>\n",
       "      <td>Caucasian</td>\n",
       "      <td>09/16/84</td>\n",
       "      <td>...</td>\n",
       "      <td>1</td>\n",
       "      <td>Low</td>\n",
       "      <td>7</td>\n",
       "      <td>Risk of Violence</td>\n",
       "      <td>-2.84</td>\n",
       "      <td>2</td>\n",
       "      <td>Low</td>\n",
       "      <td>New</td>\n",
       "      <td>1</td>\n",
       "      <td>0</td>\n",
       "    </tr>\n",
       "    <tr>\n",
       "      <th>4</th>\n",
       "      <td>50848</td>\n",
       "      <td>57174</td>\n",
       "      <td>51956</td>\n",
       "      <td>PRETRIAL</td>\n",
       "      <td>KENDALL</td>\n",
       "      <td>KEVIN</td>\n",
       "      <td>NaN</td>\n",
       "      <td>Male</td>\n",
       "      <td>Caucasian</td>\n",
       "      <td>09/16/84</td>\n",
       "      <td>...</td>\n",
       "      <td>1</td>\n",
       "      <td>Low</td>\n",
       "      <td>8</td>\n",
       "      <td>Risk of Recidivism</td>\n",
       "      <td>-1.50</td>\n",
       "      <td>1</td>\n",
       "      <td>Low</td>\n",
       "      <td>New</td>\n",
       "      <td>1</td>\n",
       "      <td>0</td>\n",
       "    </tr>\n",
       "  </tbody>\n",
       "</table>\n",
       "<p>5 rows × 28 columns</p>\n",
       "</div>"
      ],
      "text/plain": [
       "   Person_ID  AssessmentID  Case_ID Agency_Text LastName FirstName MiddleName  \\\n",
       "0      50844         57167    51950    PRETRIAL   Fisher     Kevin        NaN   \n",
       "1      50844         57167    51950    PRETRIAL   Fisher     Kevin        NaN   \n",
       "2      50844         57167    51950    PRETRIAL   Fisher     Kevin        NaN   \n",
       "3      50848         57174    51956    PRETRIAL  KENDALL     KEVIN        NaN   \n",
       "4      50848         57174    51956    PRETRIAL  KENDALL     KEVIN        NaN   \n",
       "\n",
       "  Sex_Code_Text Ethnic_Code_Text DateOfBirth  ...  RecSupervisionLevel  \\\n",
       "0          Male        Caucasian    12/05/92  ...                    1   \n",
       "1          Male        Caucasian    12/05/92  ...                    1   \n",
       "2          Male        Caucasian    12/05/92  ...                    1   \n",
       "3          Male        Caucasian    09/16/84  ...                    1   \n",
       "4          Male        Caucasian    09/16/84  ...                    1   \n",
       "\n",
       "  RecSupervisionLevelText Scale_ID                DisplayText RawScore  \\\n",
       "0                     Low        7           Risk of Violence    -2.08   \n",
       "1                     Low        8         Risk of Recidivism    -1.06   \n",
       "2                     Low       18  Risk of Failure to Appear    15.00   \n",
       "3                     Low        7           Risk of Violence    -2.84   \n",
       "4                     Low        8         Risk of Recidivism    -1.50   \n",
       "\n",
       "  DecileScore ScoreText AssessmentType  IsCompleted IsDeleted  \n",
       "0           4       Low            New            1         0  \n",
       "1           2       Low            New            1         0  \n",
       "2           1       Low            New            1         0  \n",
       "3           2       Low            New            1         0  \n",
       "4           1       Low            New            1         0  \n",
       "\n",
       "[5 rows x 28 columns]"
      ]
     },
     "execution_count": 2,
     "metadata": {},
     "output_type": "execute_result"
    }
   ],
   "source": [
    "df.head()"
   ]
  },
  {
   "cell_type": "code",
   "execution_count": 3,
   "id": "37989a13",
   "metadata": {},
   "outputs": [
    {
     "data": {
      "text/html": [
       "<div>\n",
       "<style scoped>\n",
       "    .dataframe tbody tr th:only-of-type {\n",
       "        vertical-align: middle;\n",
       "    }\n",
       "\n",
       "    .dataframe tbody tr th {\n",
       "        vertical-align: top;\n",
       "    }\n",
       "\n",
       "    .dataframe thead th {\n",
       "        text-align: right;\n",
       "    }\n",
       "</style>\n",
       "<table border=\"1\" class=\"dataframe\">\n",
       "  <thead>\n",
       "    <tr style=\"text-align: right;\">\n",
       "      <th></th>\n",
       "      <th>count</th>\n",
       "      <th>mean</th>\n",
       "      <th>std</th>\n",
       "      <th>min</th>\n",
       "      <th>25%</th>\n",
       "      <th>50%</th>\n",
       "      <th>75%</th>\n",
       "      <th>max</th>\n",
       "    </tr>\n",
       "  </thead>\n",
       "  <tbody>\n",
       "    <tr>\n",
       "      <th>Person_ID</th>\n",
       "      <td>60843.0</td>\n",
       "      <td>53683.206154</td>\n",
       "      <td>14363.648515</td>\n",
       "      <td>656.00</td>\n",
       "      <td>52039.00</td>\n",
       "      <td>57321.00</td>\n",
       "      <td>62748.0</td>\n",
       "      <td>68608.0</td>\n",
       "    </tr>\n",
       "    <tr>\n",
       "      <th>AssessmentID</th>\n",
       "      <td>60843.0</td>\n",
       "      <td>68061.029190</td>\n",
       "      <td>7320.208226</td>\n",
       "      <td>649.00</td>\n",
       "      <td>62582.00</td>\n",
       "      <td>68229.00</td>\n",
       "      <td>73870.0</td>\n",
       "      <td>79678.0</td>\n",
       "    </tr>\n",
       "    <tr>\n",
       "      <th>Case_ID</th>\n",
       "      <td>60843.0</td>\n",
       "      <td>60209.128149</td>\n",
       "      <td>9638.501654</td>\n",
       "      <td>350.00</td>\n",
       "      <td>56021.00</td>\n",
       "      <td>61261.00</td>\n",
       "      <td>66554.0</td>\n",
       "      <td>72045.0</td>\n",
       "    </tr>\n",
       "    <tr>\n",
       "      <th>ScaleSet_ID</th>\n",
       "      <td>60843.0</td>\n",
       "      <td>21.819536</td>\n",
       "      <td>0.932614</td>\n",
       "      <td>17.00</td>\n",
       "      <td>22.00</td>\n",
       "      <td>22.00</td>\n",
       "      <td>22.0</td>\n",
       "      <td>22.0</td>\n",
       "    </tr>\n",
       "    <tr>\n",
       "      <th>RecSupervisionLevel</th>\n",
       "      <td>60843.0</td>\n",
       "      <td>1.630048</td>\n",
       "      <td>0.944220</td>\n",
       "      <td>1.00</td>\n",
       "      <td>1.00</td>\n",
       "      <td>1.00</td>\n",
       "      <td>2.0</td>\n",
       "      <td>4.0</td>\n",
       "    </tr>\n",
       "    <tr>\n",
       "      <th>Scale_ID</th>\n",
       "      <td>60843.0</td>\n",
       "      <td>11.000000</td>\n",
       "      <td>4.966596</td>\n",
       "      <td>7.00</td>\n",
       "      <td>7.00</td>\n",
       "      <td>8.00</td>\n",
       "      <td>18.0</td>\n",
       "      <td>18.0</td>\n",
       "    </tr>\n",
       "    <tr>\n",
       "      <th>RawScore</th>\n",
       "      <td>60843.0</td>\n",
       "      <td>5.081457</td>\n",
       "      <td>10.080518</td>\n",
       "      <td>-4.79</td>\n",
       "      <td>-2.09</td>\n",
       "      <td>-0.71</td>\n",
       "      <td>14.0</td>\n",
       "      <td>51.0</td>\n",
       "    </tr>\n",
       "    <tr>\n",
       "      <th>DecileScore</th>\n",
       "      <td>60843.0</td>\n",
       "      <td>3.571701</td>\n",
       "      <td>2.617854</td>\n",
       "      <td>-1.00</td>\n",
       "      <td>1.00</td>\n",
       "      <td>3.00</td>\n",
       "      <td>5.0</td>\n",
       "      <td>10.0</td>\n",
       "    </tr>\n",
       "    <tr>\n",
       "      <th>IsCompleted</th>\n",
       "      <td>60843.0</td>\n",
       "      <td>1.000000</td>\n",
       "      <td>0.000000</td>\n",
       "      <td>1.00</td>\n",
       "      <td>1.00</td>\n",
       "      <td>1.00</td>\n",
       "      <td>1.0</td>\n",
       "      <td>1.0</td>\n",
       "    </tr>\n",
       "    <tr>\n",
       "      <th>IsDeleted</th>\n",
       "      <td>60843.0</td>\n",
       "      <td>0.000000</td>\n",
       "      <td>0.000000</td>\n",
       "      <td>0.00</td>\n",
       "      <td>0.00</td>\n",
       "      <td>0.00</td>\n",
       "      <td>0.0</td>\n",
       "      <td>0.0</td>\n",
       "    </tr>\n",
       "  </tbody>\n",
       "</table>\n",
       "</div>"
      ],
      "text/plain": [
       "                       count          mean           std     min       25%  \\\n",
       "Person_ID            60843.0  53683.206154  14363.648515  656.00  52039.00   \n",
       "AssessmentID         60843.0  68061.029190   7320.208226  649.00  62582.00   \n",
       "Case_ID              60843.0  60209.128149   9638.501654  350.00  56021.00   \n",
       "ScaleSet_ID          60843.0     21.819536      0.932614   17.00     22.00   \n",
       "RecSupervisionLevel  60843.0      1.630048      0.944220    1.00      1.00   \n",
       "Scale_ID             60843.0     11.000000      4.966596    7.00      7.00   \n",
       "RawScore             60843.0      5.081457     10.080518   -4.79     -2.09   \n",
       "DecileScore          60843.0      3.571701      2.617854   -1.00      1.00   \n",
       "IsCompleted          60843.0      1.000000      0.000000    1.00      1.00   \n",
       "IsDeleted            60843.0      0.000000      0.000000    0.00      0.00   \n",
       "\n",
       "                          50%      75%      max  \n",
       "Person_ID            57321.00  62748.0  68608.0  \n",
       "AssessmentID         68229.00  73870.0  79678.0  \n",
       "Case_ID              61261.00  66554.0  72045.0  \n",
       "ScaleSet_ID             22.00     22.0     22.0  \n",
       "RecSupervisionLevel      1.00      2.0      4.0  \n",
       "Scale_ID                 8.00     18.0     18.0  \n",
       "RawScore                -0.71     14.0     51.0  \n",
       "DecileScore              3.00      5.0     10.0  \n",
       "IsCompleted              1.00      1.0      1.0  \n",
       "IsDeleted                0.00      0.0      0.0  "
      ]
     },
     "execution_count": 3,
     "metadata": {},
     "output_type": "execute_result"
    }
   ],
   "source": [
    "df.describe().transpose()"
   ]
  },
  {
   "cell_type": "code",
   "execution_count": 4,
   "id": "0f8bd37e",
   "metadata": {
    "scrolled": true
   },
   "outputs": [
    {
     "name": "stdout",
     "output_type": "stream",
     "text": [
      "<class 'pandas.core.frame.DataFrame'>\n",
      "RangeIndex: 60843 entries, 0 to 60842\n",
      "Data columns (total 28 columns):\n",
      " #   Column                   Non-Null Count  Dtype  \n",
      "---  ------                   --------------  -----  \n",
      " 0   Person_ID                60843 non-null  int64  \n",
      " 1   AssessmentID             60843 non-null  int64  \n",
      " 2   Case_ID                  60843 non-null  int64  \n",
      " 3   Agency_Text              60843 non-null  object \n",
      " 4   LastName                 60843 non-null  object \n",
      " 5   FirstName                60843 non-null  object \n",
      " 6   MiddleName               15624 non-null  object \n",
      " 7   Sex_Code_Text            60843 non-null  object \n",
      " 8   Ethnic_Code_Text         60843 non-null  object \n",
      " 9   DateOfBirth              60843 non-null  object \n",
      " 10  ScaleSet_ID              60843 non-null  int64  \n",
      " 11  ScaleSet                 60843 non-null  object \n",
      " 12  AssessmentReason         60843 non-null  object \n",
      " 13  Language                 60843 non-null  object \n",
      " 14  LegalStatus              60843 non-null  object \n",
      " 15  CustodyStatus            60843 non-null  object \n",
      " 16  MaritalStatus            60843 non-null  object \n",
      " 17  Screening_Date           60843 non-null  object \n",
      " 18  RecSupervisionLevel      60843 non-null  int64  \n",
      " 19  RecSupervisionLevelText  60843 non-null  object \n",
      " 20  Scale_ID                 60843 non-null  int64  \n",
      " 21  DisplayText              60843 non-null  object \n",
      " 22  RawScore                 60843 non-null  float64\n",
      " 23  DecileScore              60843 non-null  int64  \n",
      " 24  ScoreText                60798 non-null  object \n",
      " 25  AssessmentType           60843 non-null  object \n",
      " 26  IsCompleted              60843 non-null  int64  \n",
      " 27  IsDeleted                60843 non-null  int64  \n",
      "dtypes: float64(1), int64(9), object(18)\n",
      "memory usage: 13.0+ MB\n"
     ]
    }
   ],
   "source": [
    "df.info()"
   ]
  },
  {
   "cell_type": "markdown",
   "id": "3bde47b7",
   "metadata": {},
   "source": [
    "# Check number of null for each column"
   ]
  },
  {
   "cell_type": "code",
   "execution_count": 5,
   "id": "8f774c2f",
   "metadata": {
    "scrolled": true
   },
   "outputs": [
    {
     "data": {
      "text/plain": [
       "Person_ID                      0\n",
       "AssessmentID                   0\n",
       "Case_ID                        0\n",
       "Agency_Text                    0\n",
       "LastName                       0\n",
       "FirstName                      0\n",
       "MiddleName                 45219\n",
       "Sex_Code_Text                  0\n",
       "Ethnic_Code_Text               0\n",
       "DateOfBirth                    0\n",
       "ScaleSet_ID                    0\n",
       "ScaleSet                       0\n",
       "AssessmentReason               0\n",
       "Language                       0\n",
       "LegalStatus                    0\n",
       "CustodyStatus                  0\n",
       "MaritalStatus                  0\n",
       "Screening_Date                 0\n",
       "RecSupervisionLevel            0\n",
       "RecSupervisionLevelText        0\n",
       "Scale_ID                       0\n",
       "DisplayText                    0\n",
       "RawScore                       0\n",
       "DecileScore                    0\n",
       "ScoreText                     45\n",
       "AssessmentType                 0\n",
       "IsCompleted                    0\n",
       "IsDeleted                      0\n",
       "dtype: int64"
      ]
     },
     "execution_count": 5,
     "metadata": {},
     "output_type": "execute_result"
    }
   ],
   "source": [
    "df.isnull().sum()"
   ]
  },
  {
   "cell_type": "markdown",
   "id": "e4318774",
   "metadata": {},
   "source": [
    "## Calculate age from DOB and Screening Date"
   ]
  },
  {
   "cell_type": "code",
   "execution_count": 6,
   "id": "0607aa2d",
   "metadata": {},
   "outputs": [
    {
     "name": "stdout",
     "output_type": "stream",
     "text": [
      "       Person_ID  AssessmentID  Case_ID Agency_Text   LastName FirstName  \\\n",
      "12000      54272         61547    55871    PRETRIAL  Lightfoot     Corey   \n",
      "12001      54272         61547    55871    PRETRIAL  Lightfoot     Corey   \n",
      "12002      54272         61547    55871    PRETRIAL  Lightfoot     Corey   \n",
      "\n",
      "      MiddleName Sex_Code_Text  Ethnic_Code_Text DateOfBirth  ...  \\\n",
      "12000        NaN          Male  African-American    11/04/18  ...   \n",
      "12001        NaN          Male  African-American    11/04/18  ...   \n",
      "12002        NaN          Male  African-American    11/04/18  ...   \n",
      "\n",
      "       RecSupervisionLevel RecSupervisionLevelText Scale_ID  \\\n",
      "12000                    1                     Low        7   \n",
      "12001                    1                     Low        8   \n",
      "12002                    1                     Low       18   \n",
      "\n",
      "                     DisplayText RawScore DecileScore ScoreText  \\\n",
      "12000           Risk of Violence    -3.53           1       Low   \n",
      "12001         Risk of Recidivism    -1.04           2       Low   \n",
      "12002  Risk of Failure to Appear    22.00           5    Medium   \n",
      "\n",
      "      AssessmentType  IsCompleted IsDeleted  \n",
      "12000            New            1         0  \n",
      "12001            New            1         0  \n",
      "12002            New            1         0  \n",
      "\n",
      "[3 rows x 28 columns]\n"
     ]
    }
   ],
   "source": [
    "# Found an entry where DoB was 2018, this entry will be removed.\n",
    "person_id_filter = df['Person_ID'] == 54272\n",
    "result_df = df[person_id_filter]\n",
    "print(result_df)\n",
    "df = df[df['Person_ID'] != 54272]"
   ]
  },
  {
   "cell_type": "code",
   "execution_count": 7,
   "id": "f3591287",
   "metadata": {},
   "outputs": [
    {
     "name": "stdout",
     "output_type": "stream",
     "text": [
      "      DateOfBirth  BirthYear\n",
      "0        12/05/92       1992\n",
      "1        12/05/92       1992\n",
      "2        12/05/92       1992\n",
      "3        09/16/84       1984\n",
      "4        09/16/84       1984\n",
      "...           ...        ...\n",
      "60838    06/21/64       1964\n",
      "60839    06/21/64       1964\n",
      "60840    02/06/85       1985\n",
      "60841    02/06/85       1985\n",
      "60842    02/06/85       1985\n",
      "\n",
      "[60840 rows x 2 columns]\n",
      "Lowest Birth Year: 1919\n",
      "Highest Birth Year: 1998\n"
     ]
    }
   ],
   "source": [
    "# DateOfBirth has values like 10/1/1977, 08/31/80, 08/14/90, 1/3/1986\n",
    "# to standardise, we shall extract the last 2 characters and park them in a new column \"BirthYear\"\n",
    "df['BirthYear'] = df['DateOfBirth'].str[-2:]\n",
    "\n",
    "# Convert BirthYear to numeric\n",
    "df['BirthYear'] = pd.to_numeric(df['BirthYear'], errors='coerce')\n",
    "\n",
    "# Add '19' to the values in 'BirthYear'\n",
    "df['BirthYear'] = df['BirthYear'].apply(lambda x: x + 1900)\n",
    "\n",
    "\n",
    "# Display the updated DataFrame\n",
    "print(df[['DateOfBirth', 'BirthYear']])\n",
    "\n",
    "# To check, we should investigate the earliest and latest birthYear.\n",
    "min_birth_year = df['BirthYear'].min()\n",
    "max_birth_year = df['BirthYear'].max()\n",
    "\n",
    "print(\"Lowest Birth Year:\", min_birth_year)\n",
    "print(\"Highest Birth Year:\", max_birth_year)"
   ]
  },
  {
   "cell_type": "code",
   "execution_count": 8,
   "id": "b92e1d2d",
   "metadata": {},
   "outputs": [
    {
     "name": "stderr",
     "output_type": "stream",
     "text": [
      "C:\\Users\\Keith\\AppData\\Local\\Temp/ipykernel_36012/2496178208.py:5: UserWarning: Could not infer format, so each element will be parsed individually, falling back to `dateutil`. To ensure parsing is consistent and as-expected, please specify a format.\n",
      "  df['Screening_Date'] = pd.to_datetime(df['Screening_Date'], errors='coerce')\n"
     ]
    }
   ],
   "source": [
    "# Screening_Date has values like 3/31/14 0:00 and 10/3/2013 0:00\n",
    "# to standardise, we shall extract the last 2 characters and park them in a new column \"ScreeningYear\"\n",
    "\n",
    "# Convert 'Screening_Date' to datetime\n",
    "df['Screening_Date'] = pd.to_datetime(df['Screening_Date'], errors='coerce')\n",
    "\n",
    "# Extract the year and ensure it is in four-digit format\n",
    "df['ScreeningYear'] = df['Screening_Date'].dt.year.apply(lambda x: x if x >= 1000 else x + 2000)"
   ]
  },
  {
   "cell_type": "code",
   "execution_count": 9,
   "id": "a1663d5d",
   "metadata": {},
   "outputs": [
    {
     "data": {
      "text/plain": [
       "0        21\n",
       "1        21\n",
       "2        21\n",
       "3        29\n",
       "4        29\n",
       "         ..\n",
       "60838    50\n",
       "60839    50\n",
       "60840    29\n",
       "60841    29\n",
       "60842    29\n",
       "Name: Age, Length: 60840, dtype: int64"
      ]
     },
     "execution_count": 9,
     "metadata": {},
     "output_type": "execute_result"
    }
   ],
   "source": [
    "from datetime import datetime\n",
    "\n",
    "# Calculate age and create a new column \"Age\"\n",
    "df['Age'] = df['ScreeningYear'] - df['BirthYear']\n",
    "df['Age']"
   ]
  },
  {
   "cell_type": "code",
   "execution_count": 10,
   "id": "23d7c657",
   "metadata": {},
   "outputs": [],
   "source": [
    "# Define age bins and labels\n",
    "bins = [15, 24, 64, 100]\n",
    "labels = ['1', '2', '3']\n",
    "\n",
    "# Create the \"AgeGroup\" column\n",
    "df['AgeGroup'] = pd.cut(df['Age'], bins=bins, labels=labels, right=False)"
   ]
  },
  {
   "cell_type": "code",
   "execution_count": 11,
   "id": "0e576e00",
   "metadata": {},
   "outputs": [
    {
     "name": "stdout",
     "output_type": "stream",
     "text": [
      "<class 'pandas.core.frame.DataFrame'>\n",
      "Index: 60840 entries, 0 to 60842\n",
      "Data columns (total 32 columns):\n",
      " #   Column                   Non-Null Count  Dtype         \n",
      "---  ------                   --------------  -----         \n",
      " 0   Person_ID                60840 non-null  int64         \n",
      " 1   AssessmentID             60840 non-null  int64         \n",
      " 2   Case_ID                  60840 non-null  int64         \n",
      " 3   Agency_Text              60840 non-null  object        \n",
      " 4   LastName                 60840 non-null  object        \n",
      " 5   FirstName                60840 non-null  object        \n",
      " 6   MiddleName               15624 non-null  object        \n",
      " 7   Sex_Code_Text            60840 non-null  object        \n",
      " 8   Ethnic_Code_Text         60840 non-null  object        \n",
      " 9   DateOfBirth              60840 non-null  object        \n",
      " 10  ScaleSet_ID              60840 non-null  int64         \n",
      " 11  ScaleSet                 60840 non-null  object        \n",
      " 12  AssessmentReason         60840 non-null  object        \n",
      " 13  Language                 60840 non-null  object        \n",
      " 14  LegalStatus              60840 non-null  object        \n",
      " 15  CustodyStatus            60840 non-null  object        \n",
      " 16  MaritalStatus            60840 non-null  object        \n",
      " 17  Screening_Date           60840 non-null  datetime64[ns]\n",
      " 18  RecSupervisionLevel      60840 non-null  int64         \n",
      " 19  RecSupervisionLevelText  60840 non-null  object        \n",
      " 20  Scale_ID                 60840 non-null  int64         \n",
      " 21  DisplayText              60840 non-null  object        \n",
      " 22  RawScore                 60840 non-null  float64       \n",
      " 23  DecileScore              60840 non-null  int64         \n",
      " 24  ScoreText                60795 non-null  object        \n",
      " 25  AssessmentType           60840 non-null  object        \n",
      " 26  IsCompleted              60840 non-null  int64         \n",
      " 27  IsDeleted                60840 non-null  int64         \n",
      " 28  BirthYear                60840 non-null  int64         \n",
      " 29  ScreeningYear            60840 non-null  int64         \n",
      " 30  Age                      60840 non-null  int64         \n",
      " 31  AgeGroup                 60840 non-null  category      \n",
      "dtypes: category(1), datetime64[ns](1), float64(1), int64(12), object(17)\n",
      "memory usage: 14.9+ MB\n"
     ]
    }
   ],
   "source": [
    "df.info()"
   ]
  },
  {
   "cell_type": "markdown",
   "id": "77f8402b",
   "metadata": {},
   "source": [
    "# Dropped column that has no decile score"
   ]
  },
  {
   "cell_type": "code",
   "execution_count": 12,
   "id": "5e194e46",
   "metadata": {},
   "outputs": [],
   "source": [
    "df_cleaned = df.dropna(subset=['ScoreText'])"
   ]
  },
  {
   "cell_type": "code",
   "execution_count": 13,
   "id": "f4796b56",
   "metadata": {},
   "outputs": [
    {
     "data": {
      "text/plain": [
       "Person_ID                      0\n",
       "AssessmentID                   0\n",
       "Case_ID                        0\n",
       "Agency_Text                    0\n",
       "LastName                       0\n",
       "FirstName                      0\n",
       "MiddleName                 45180\n",
       "Sex_Code_Text                  0\n",
       "Ethnic_Code_Text               0\n",
       "DateOfBirth                    0\n",
       "ScaleSet_ID                    0\n",
       "ScaleSet                       0\n",
       "AssessmentReason               0\n",
       "Language                       0\n",
       "LegalStatus                    0\n",
       "CustodyStatus                  0\n",
       "MaritalStatus                  0\n",
       "Screening_Date                 0\n",
       "RecSupervisionLevel            0\n",
       "RecSupervisionLevelText        0\n",
       "Scale_ID                       0\n",
       "DisplayText                    0\n",
       "RawScore                       0\n",
       "DecileScore                    0\n",
       "ScoreText                      0\n",
       "AssessmentType                 0\n",
       "IsCompleted                    0\n",
       "IsDeleted                      0\n",
       "BirthYear                      0\n",
       "ScreeningYear                  0\n",
       "Age                            0\n",
       "AgeGroup                       0\n",
       "dtype: int64"
      ]
     },
     "execution_count": 13,
     "metadata": {},
     "output_type": "execute_result"
    }
   ],
   "source": [
    "df_cleaned.isnull().sum()"
   ]
  },
  {
   "cell_type": "code",
   "execution_count": 14,
   "id": "4c460a2c",
   "metadata": {},
   "outputs": [
    {
     "name": "stdout",
     "output_type": "stream",
     "text": [
      "Person_ID                           int64\n",
      "AssessmentID                        int64\n",
      "Case_ID                             int64\n",
      "Agency_Text                        object\n",
      "LastName                           object\n",
      "FirstName                          object\n",
      "MiddleName                         object\n",
      "Sex_Code_Text                      object\n",
      "Ethnic_Code_Text                   object\n",
      "DateOfBirth                        object\n",
      "ScaleSet_ID                         int64\n",
      "ScaleSet                           object\n",
      "AssessmentReason                   object\n",
      "Language                           object\n",
      "LegalStatus                        object\n",
      "CustodyStatus                      object\n",
      "MaritalStatus                      object\n",
      "Screening_Date             datetime64[ns]\n",
      "RecSupervisionLevel                 int64\n",
      "RecSupervisionLevelText            object\n",
      "Scale_ID                            int64\n",
      "DisplayText                        object\n",
      "RawScore                          float64\n",
      "DecileScore                         int64\n",
      "ScoreText                          object\n",
      "AssessmentType                     object\n",
      "IsCompleted                         int64\n",
      "IsDeleted                           int64\n",
      "BirthYear                           int64\n",
      "ScreeningYear                       int64\n",
      "Age                                 int64\n",
      "AgeGroup                         category\n",
      "dtype: object\n"
     ]
    }
   ],
   "source": [
    "data_types = df_cleaned.dtypes\n",
    "print(data_types)"
   ]
  },
  {
   "cell_type": "code",
   "execution_count": 15,
   "id": "92a9ea43",
   "metadata": {
    "scrolled": true
   },
   "outputs": [
    {
     "name": "stdout",
     "output_type": "stream",
     "text": [
      "Unique values in Person_ID: [50844 50848 50855 ... 68595 68598 68603]\n",
      "Unique values in AssessmentID: [57167 57174 57181 ... 79660 79665 79669]\n",
      "Unique values in Case_ID: [51950 51956 51963 ... 72035 72038 72042]\n",
      "Unique values in Agency_Text: ['PRETRIAL' 'Probation' 'DRRD' 'Broward County']\n",
      "Unique values in LastName: ['Fisher' 'KENDALL' 'DAYES' ... 'WEBLEY' 'Sime' 'PENTO']\n",
      "Unique values in FirstName: ['Kevin' 'KEVIN' 'DANIEL' ... 'STERN' 'krishna' 'Viki']\n",
      "Unique values in MiddleName: [nan 'George' 'Nicole' ... 'Wilmington' 'SHEREE' 'THEOPHILUS']\n",
      "Unique values in Sex_Code_Text: ['Male' 'Female']\n",
      "Unique values in Ethnic_Code_Text: ['Caucasian' 'African-American' 'Hispanic' 'Other' 'Asian' 'African-Am'\n",
      " 'Native American' 'Oriental' 'Arabic']\n",
      "Unique values in DateOfBirth: ['12/05/92' '09/16/84' '08/25/94' ... '07/07/72' '06/26/94' '08/09/87']\n",
      "Unique values in ScaleSet_ID: [22 17]\n",
      "Unique values in ScaleSet: ['Risk and Prescreen' 'All Scales']\n",
      "Unique values in AssessmentReason: ['Intake']\n",
      "Unique values in Language: ['English' 'Spanish']\n",
      "Unique values in LegalStatus: ['Pretrial' 'Post Sentence' 'Conditional Release' 'Other'\n",
      " 'Probation Violator' 'Parole Violator' 'Deferred Sentencing']\n",
      "Unique values in CustodyStatus: ['Jail Inmate' 'Probation' 'Pretrial Defendant' 'Residential Program'\n",
      " 'Prison Inmate' 'Parole']\n",
      "Unique values in MaritalStatus: ['Single' 'Married' 'Significant Other' 'Divorced' 'Separated' 'Widowed'\n",
      " 'Unknown']\n",
      "Unique values in Screening_Date: <DatetimeArray>\n",
      "['2013-01-01 00:00:00', '2013-01-02 00:00:00', '2013-01-03 00:00:00',\n",
      " '2013-01-04 00:00:00', '2013-01-05 00:00:00', '2013-01-06 00:00:00',\n",
      " '2013-01-07 00:00:00', '2013-01-08 00:00:00', '2013-01-09 00:00:00',\n",
      " '2013-01-10 00:00:00',\n",
      " ...\n",
      " '2014-12-22 00:00:00', '2014-12-23 00:00:00', '2014-12-24 00:00:00',\n",
      " '2014-12-25 00:00:00', '2014-12-26 00:00:00', '2014-12-27 00:00:00',\n",
      " '2014-12-28 00:00:00', '2014-12-29 00:00:00', '2014-12-30 00:00:00',\n",
      " '2014-12-31 00:00:00']\n",
      "Length: 705, dtype: datetime64[ns]\n",
      "Unique values in RecSupervisionLevel: [1 4 2 3]\n",
      "Unique values in RecSupervisionLevelText: ['Low' 'High' 'Medium' 'Medium with Override Consideration']\n",
      "Unique values in Scale_ID: [ 7  8 18]\n",
      "Unique values in DisplayText: ['Risk of Violence' 'Risk of Recidivism' 'Risk of Failure to Appear']\n",
      "Unique values in RawScore: [-2.08e+00 -1.06e+00  1.50e+01 -2.84e+00 -1.50e+00  1.90e+01 -1.20e+00\n",
      "  1.80e-01  1.30e+01 -1.29e+00 -5.30e-01  1.10e+01 -2.90e+00 -1.55e+00\n",
      "  1.60e+01 -1.33e+00  7.10e-01  2.40e+01 -3.01e+00 -1.74e+00 -1.44e+00\n",
      "  3.80e-01  2.00e+01 -3.03e+00 -1.21e+00 -2.69e+00 -1.31e+00 -9.20e-01\n",
      "  6.00e-02 -3.15e+00 -1.66e+00  1.80e+01 -3.14e+00 -1.67e+00 -2.33e+00\n",
      " -1.00e+00 -2.20e+00 -5.70e-01 -3.63e+00 -2.11e+00 -2.28e+00 -1.98e+00\n",
      " -3.60e-01 -3.00e+00 -7.50e-01 -3.52e+00 -1.54e+00 -1.99e+00 -2.00e-02\n",
      " -8.90e-01  7.90e-01 -2.62e+00 -9.00e-01  1.40e+01 -1.18e+00 -3.23e+00\n",
      " -1.79e+00 -1.50e-01  3.10e-01  2.80e+01 -2.80e+00  0.00e+00  2.10e+01\n",
      " -1.87e+00  4.80e-01  4.90e-01 -1.36e+00  5.70e-01  2.20e+01 -2.09e+00\n",
      "  4.10e-01 -2.40e+00 -1.10e-01  2.50e+01 -2.94e+00 -1.56e+00 -4.28e+00\n",
      " -2.61e+00 -1.62e+00 -2.60e-01 -1.90e+00  1.70e+01 -2.30e+00 -1.01e+00\n",
      " -1.88e+00 -1.70e-01 -3.91e+00 -2.22e+00 -4.70e-01 -1.38e+00  1.40e-01\n",
      " -2.51e+00 -6.00e-02  5.00e-01 -3.86e+00 -1.92e+00 -2.85e+00 -1.41e+00\n",
      " -2.44e+00 -9.30e-01 -2.38e+00  2.70e+01  3.70e-01 -2.50e-01  2.30e+01\n",
      " -2.21e+00 -2.90e-01 -7.70e-01  3.20e-01 -3.49e+00 -2.97e+00 -9.40e-01\n",
      " -2.89e+00 -3.46e+00 -1.69e+00 -3.37e+00 -2.60e+00 -8.00e-01 -3.47e+00\n",
      " -1.63e+00 -3.93e+00 -4.16e+00 -1.57e+00 -2.18e+00 -1.13e+00 -2.64e+00\n",
      " -9.50e-01 -1.64e+00 -2.24e+00 -4.30e-01 -3.73e+00 -2.37e+00  1.20e+01\n",
      " -1.42e+00 -2.00e-01 -3.19e+00 -2.32e+00 -1.09e+00 -2.45e+00 -6.50e-01\n",
      " -2.82e+00 -1.43e+00 -2.23e+00  1.70e-01 -2.71e+00 -8.40e-01  9.50e-01\n",
      " -2.50e+00 -1.00e-02  2.90e+01 -1.45e+00  3.50e-01 -2.15e+00 -8.10e-01\n",
      "  8.00e-02  3.30e+01 -3.24e+00 -1.39e+00 -2.58e+00 -5.10e-01 -2.48e+00\n",
      " -1.70e+00 -1.68e+00  9.00e-02 -2.63e+00 -2.52e+00 -1.14e+00 -8.00e-02\n",
      " -3.32e+00 -4.90e-01  3.00e-01 -4.50e-01 -3.06e+00 -2.68e+00  3.20e+01\n",
      " -4.10e-01  3.40e-01 -6.40e-01 -1.80e+00 -6.70e-01 -2.07e+00 -4.00e-02\n",
      " -2.76e+00 -3.05e+00 -1.27e+00 -1.04e+00 -5.50e-01  3.00e+01 -2.92e+00\n",
      " -9.00e-02  3.50e+01 -2.53e+00 -7.90e-01  6.80e-01 -2.70e-01 -1.51e+00\n",
      " -3.92e+00 -1.83e+00 -2.43e+00 -7.00e-01 -1.48e+00  2.40e-01 -1.40e+00\n",
      " -3.53e+00 -1.12e+00 -1.73e+00 -1.60e-01 -1.52e+00 -4.35e+00 -2.79e+00\n",
      "  3.30e-01  7.60e-01 -3.70e-01 -3.10e-01 -1.93e+00 -2.10e-01 -2.55e+00\n",
      " -9.90e-01 -6.10e-01 -9.10e-01 -2.74e+00 -1.03e+00 -1.81e+00 -3.50e-01\n",
      " -2.35e+00 -1.53e+00  7.20e-01 -1.34e+00  3.10e+01  1.90e-01  1.60e-01\n",
      " -1.60e+00 -6.90e-01 -3.75e+00  6.00e-01 -2.77e+00 -4.08e+00 -7.30e-01\n",
      "  8.20e-01 -2.17e+00 -7.10e-01 -3.56e+00 -1.84e+00 -8.50e-01  6.10e-01\n",
      " -4.50e+00 -6.20e-01  6.40e-01 -3.20e-01  2.60e+01 -3.25e+00 -1.86e+00\n",
      " -7.40e-01  5.20e-01 -5.80e-01 -3.61e+00 -2.13e+00 -1.91e+00 -1.75e+00\n",
      " -3.87e+00 -1.77e+00 -3.50e+00 -1.95e+00 -9.60e-01 -3.33e+00 -1.76e+00\n",
      "  8.50e-01  3.70e+01 -1.23e+00 -4.40e-01 -1.80e-01 -3.04e+00 -2.56e+00\n",
      "  7.00e-02  1.00e-02 -2.41e+00  2.50e-01 -7.60e-01 -1.11e+00  3.40e+01\n",
      " -5.40e-01 -4.80e-01 -3.35e+00 -2.31e+00 -2.36e+00 -2.40e-01 -2.06e+00\n",
      " -6.00e-01 -1.37e+00 -1.65e+00 -3.41e+00 -1.94e+00 -2.34e+00 -2.80e-01\n",
      " -3.38e+00 -3.97e+00 -1.08e+00  5.10e-01 -4.32e+00 -2.70e+00 -1.02e+00\n",
      " -4.06e+00 -3.88e+00 -1.24e+00 -3.20e+00  6.70e-01  1.24e+00 -4.20e-01\n",
      " -1.00e-01 -4.38e+00 -2.25e+00 -1.15e+00 -3.43e+00 -1.22e+00 -4.00e-01\n",
      " -3.74e+00 -2.49e+00 -8.30e-01 -5.00e-01  4.40e-01 -2.73e+00 -1.28e+00\n",
      " -3.98e+00 -7.80e-01 -2.98e+00 -2.95e+00 -6.80e-01 -3.18e+00 -1.16e+00\n",
      " -1.19e+00 -1.96e+00 -2.26e+00 -3.00e-02 -3.40e-01  6.50e-01 -2.86e+00\n",
      " -2.72e+00 -2.78e+00 -1.20e-01 -2.39e+00 -1.61e+00 -1.85e+00  1.00e-01\n",
      "  3.00e-02  1.29e+00 -2.03e+00 -5.60e-01 -3.71e+00 -3.07e+00 -8.20e-01\n",
      " -3.70e+00 -1.10e+00 -1.82e+00 -3.90e-01 -2.67e+00 -1.78e+00 -4.12e+00\n",
      "  4.50e-01 -2.04e+00  6.20e-01  2.60e-01 -1.07e+00  5.00e-02  2.80e-01\n",
      " -2.01e+00  8.60e-01 -5.20e-01 -3.09e+00 -2.88e+00 -5.90e-01 -7.00e-02\n",
      " -4.45e+00 -2.81e+00  2.10e-01  5.90e-01  5.50e-01 -2.75e+00 -7.20e-01\n",
      " -8.60e-01 -1.26e+00  6.60e-01 -4.60e-01  4.70e+01 -8.70e-01 -2.00e+00\n",
      " -3.55e+00 -2.02e+00 -2.19e+00 -9.70e-01 -3.51e+00 -3.66e+00 -4.27e+00\n",
      "  1.09e+00 -1.05e+00 -2.29e+00  4.00e+01 -4.13e+00 -2.30e-01  1.10e-01\n",
      "  2.00e-01 -3.12e+00 -1.72e+00 -2.14e+00 -3.95e+00  6.90e-01  5.80e-01\n",
      "  1.50e-01 -9.80e-01 -3.26e+00 -3.21e+00 -3.94e+00 -3.78e+00 -3.64e+00\n",
      " -3.90e+00 -3.85e+00  8.40e-01  1.30e-01 -2.66e+00 -3.83e+00 -3.36e+00\n",
      " -1.59e+00 -4.15e+00 -2.83e+00 -4.18e+00 -5.00e-02 -3.27e+00 -3.79e+00\n",
      "  1.20e-01  2.20e-01 -1.40e-01  1.01e+00  3.60e+01 -4.01e+00 -1.30e+00\n",
      " -3.28e+00 -1.58e+00 -8.80e-01 -1.71e+00  4.00e-02 -2.16e+00 -6.60e-01\n",
      " -1.17e+00 -1.25e+00  2.00e-02  3.60e-01 -3.48e+00 -1.90e-01  5.40e-01\n",
      " -3.39e+00 -1.32e+00  4.30e-01 -3.02e+00 -2.05e+00 -2.99e+00 -1.97e+00\n",
      "  8.30e-01 -2.20e-01 -1.49e+00  4.20e+01  4.60e-01 -2.42e+00 -3.42e+00\n",
      " -1.47e+00  1.17e+00 -1.35e+00 -4.03e+00 -1.30e-01 -3.10e+00 -6.30e-01\n",
      " -2.10e+00 -2.59e+00  9.20e-01  4.70e-01  4.00e-01 -3.44e+00  7.70e-01\n",
      " -3.96e+00 -4.26e+00 -3.89e+00 -4.04e+00 -3.31e+00 -2.46e+00 -3.30e-01\n",
      " -3.80e+00 -1.46e+00 -3.45e+00  5.30e-01  3.90e+01  5.60e-01 -4.14e+00\n",
      " -1.89e+00 -2.87e+00  7.80e-01 -3.54e+00 -3.17e+00 -4.05e+00 -2.47e+00\n",
      "  3.90e-01  8.90e-01 -2.27e+00 -2.65e+00  7.00e-01  2.90e-01 -2.54e+00\n",
      " -2.57e+00 -3.29e+00 -3.69e+00 -3.77e+00 -4.00e+00  9.30e-01 -3.57e+00\n",
      " -2.91e+00 -2.12e+00 -2.93e+00 -4.31e+00 -3.80e-01 -3.00e-01 -3.40e+00\n",
      "  1.14e+00 -3.22e+00 -2.96e+00  1.31e+00 -3.62e+00 -3.58e+00 -4.39e+00\n",
      " -4.19e+00 -3.82e+00  9.40e-01 -3.60e+00  2.30e-01 -3.99e+00 -4.20e+00\n",
      " -3.30e+00 -3.76e+00 -4.30e+00 -4.10e+00  6.30e-01 -3.34e+00 -3.67e+00\n",
      "  7.50e-01  8.80e-01 -3.08e+00  1.39e+00  1.12e+00  3.80e+01  1.07e+00\n",
      " -3.13e+00 -3.16e+00 -4.17e+00  7.40e-01  1.05e+00 -4.25e+00  1.34e+00\n",
      " -3.11e+00 -4.21e+00 -3.72e+00  8.00e-01  4.20e-01  2.70e-01  1.49e+00\n",
      " -3.65e+00  1.16e+00 -3.81e+00  9.90e-01 -4.11e+00  7.30e-01 -4.24e+00\n",
      " -4.02e+00 -4.09e+00 -3.68e+00 -4.40e+00  1.06e+00  8.70e-01  9.60e-01\n",
      " -3.84e+00 -3.59e+00 -4.49e+00 -4.65e+00  4.40e+01  8.10e-01  9.70e-01\n",
      "  1.32e+00 -4.53e+00 -4.22e+00 -4.34e+00  1.22e+00  1.38e+00  4.50e+01\n",
      " -4.63e+00  1.10e+00  1.36e+00  1.13e+00 -4.56e+00  1.00e+00 -4.64e+00\n",
      "  1.48e+00  9.00e-01  1.18e+00  1.11e+00  1.53e+00  9.80e-01  4.60e+01\n",
      " -4.47e+00 -4.23e+00  1.40e+00  1.43e+00 -4.36e+00  1.02e+00 -4.43e+00\n",
      " -4.37e+00  1.52e+00  4.10e+01 -4.07e+00 -4.44e+00  1.20e+00  1.23e+00\n",
      " -4.29e+00 -4.54e+00  1.03e+00  4.30e+01 -4.46e+00  1.15e+00  4.80e+01\n",
      "  1.04e+00 -4.33e+00 -4.55e+00 -4.42e+00  1.25e+00  1.37e+00  1.59e+00\n",
      "  1.33e+00  1.26e+00  1.56e+00  1.21e+00  9.10e-01  1.19e+00  1.08e+00\n",
      "  1.70e+00  1.44e+00 -4.52e+00 -4.79e+00  1.41e+00  1.69e+00 -4.72e+00\n",
      "  2.36e+00 -4.62e+00  1.27e+00 -4.48e+00 -4.41e+00 -4.59e+00  1.51e+00\n",
      " -4.51e+00 -4.58e+00  5.10e+01  1.65e+00 -4.66e+00  4.90e+01  5.00e+01\n",
      "  1.55e+00]\n",
      "Unique values in DecileScore: [ 4  2  1  3  8  7  6 10  9  5]\n",
      "Unique values in ScoreText: ['Low' 'High' 'Medium']\n",
      "Unique values in AssessmentType: ['New' 'Copy']\n",
      "Unique values in IsCompleted: [1]\n",
      "Unique values in IsDeleted: [0]\n",
      "Unique values in BirthYear: [1992 1984 1994 1985 1966 1993 1972 1986 1980 1978 1988 1979 1970 1991\n",
      " 1975 1973 1981 1989 1960 1967 1955 1974 1987 1943 1977 1983 1968 1982\n",
      " 1971 1959 1947 1962 1990 1965 1963 1964 1944 1954 1953 1956 1933 1961\n",
      " 1969 1996 1976 1950 1958 1942 1957 1951 1929 1995 1946 1948 1945 1940\n",
      " 1949 1952 1938 1937 1941 1935 1932 1936 1997 1939 1925 1930 1919 1998]\n",
      "Unique values in ScreeningYear: [2013 2014]\n",
      "Unique values in Age: [21 29 19 28 47 20 41 27 33 35 25 34 43 22 38 40 32 24 53 46 58 39 26 70\n",
      " 36 30 45 31 42 54 66 51 23 48 50 49 69 59 60 57 80 52 44 17 37 63 55 71\n",
      " 56 62 84 18 67 65 68 73 64 61 75 76 72 78 81 77 16 74 88 95]\n",
      "Unique values in AgeGroup: ['1', '2', '3']\n",
      "Categories (3, object): ['1' < '2' < '3']\n"
     ]
    }
   ],
   "source": [
    "for column in df_cleaned.columns:\n",
    "    unique_values = df_cleaned[column].unique()\n",
    "    print(f\"Unique values in {column}: {unique_values}\")"
   ]
  },
  {
   "cell_type": "markdown",
   "id": "786d0cd8",
   "metadata": {},
   "source": [
    "## Combining African_Am and African_American"
   ]
  },
  {
   "cell_type": "code",
   "execution_count": 16,
   "id": "7f1ace99",
   "metadata": {},
   "outputs": [
    {
     "name": "stdout",
     "output_type": "stream",
     "text": [
      "For Ethnic_Code_Text variable\n",
      "['Caucasian' 'African-American' 'Hispanic' 'Other' 'Asian'\n",
      " 'Native American' 'Oriental' 'Arabic']\n",
      "Ethnic_Code_Text\n",
      "African-American    27050\n",
      "Caucasian           21765\n",
      "Hispanic             8733\n",
      "Other                2590\n",
      "Asian                 324\n",
      "Native American       219\n",
      "Arabic                 75\n",
      "Oriental               39\n",
      "Name: count, dtype: int64\n"
     ]
    },
    {
     "name": "stderr",
     "output_type": "stream",
     "text": [
      "C:\\Users\\Keith\\AppData\\Local\\Temp/ipykernel_36012/3464560337.py:1: FutureWarning: A value is trying to be set on a copy of a DataFrame or Series through chained assignment using an inplace method.\n",
      "The behavior will change in pandas 3.0. This inplace method will never work because the intermediate object on which we are setting values always behaves as a copy.\n",
      "\n",
      "For example, when doing 'df[col].method(value, inplace=True)', try using 'df.method({col: value}, inplace=True)' or df[col] = df[col].method(value) instead, to perform the operation inplace on the original object.\n",
      "\n",
      "\n",
      "  df_cleaned[\"Ethnic_Code_Text\"].replace({\"African-Am\": \"African-American\"}, inplace=True)\n",
      "C:\\Users\\Keith\\AppData\\Local\\Temp/ipykernel_36012/3464560337.py:1: SettingWithCopyWarning: \n",
      "A value is trying to be set on a copy of a slice from a DataFrame\n",
      "\n",
      "See the caveats in the documentation: https://pandas.pydata.org/pandas-docs/stable/user_guide/indexing.html#returning-a-view-versus-a-copy\n",
      "  df_cleaned[\"Ethnic_Code_Text\"].replace({\"African-Am\": \"African-American\"}, inplace=True)\n"
     ]
    }
   ],
   "source": [
    "df_cleaned[\"Ethnic_Code_Text\"].replace({\"African-Am\": \"African-American\"}, inplace=True)\n",
    "print(\"For Ethnic_Code_Text variable\")\n",
    "print(df_cleaned[\"Ethnic_Code_Text\"].unique())\n",
    "print(df_cleaned[\"Ethnic_Code_Text\"].value_counts())"
   ]
  },
  {
   "cell_type": "markdown",
   "id": "1065034b",
   "metadata": {},
   "source": [
    "## One Hot Encoding"
   ]
  },
  {
   "cell_type": "code",
   "execution_count": 17,
   "id": "8286935e",
   "metadata": {},
   "outputs": [
    {
     "name": "stdout",
     "output_type": "stream",
     "text": [
      "(60795, 32)\n",
      "(60795, 64)\n",
      "       Person_ID  AssessmentID  Case_ID LastName FirstName MiddleName  \\\n",
      "0          50844         57167    51950   Fisher     Kevin        NaN   \n",
      "1          50844         57167    51950   Fisher     Kevin        NaN   \n",
      "2          50844         57167    51950   Fisher     Kevin        NaN   \n",
      "3          50848         57174    51956  KENDALL     KEVIN        NaN   \n",
      "4          50848         57174    51956  KENDALL     KEVIN        NaN   \n",
      "...          ...           ...      ...      ...       ...        ...   \n",
      "60838      65667         79665    72038     West     James        NaN   \n",
      "60839      65667         79665    72038     West     James        NaN   \n",
      "60840      68603         79669    72042     Ryan   Michael        NaN   \n",
      "60841      68603         79669    72042     Ryan   Michael        NaN   \n",
      "60842      68603         79669    72042     Ryan   Michael        NaN   \n",
      "\n",
      "      DateOfBirth  ScaleSet_ID AssessmentReason Screening_Date  ...  \\\n",
      "0        12/05/92           22           Intake     2013-01-01  ...   \n",
      "1        12/05/92           22           Intake     2013-01-01  ...   \n",
      "2        12/05/92           22           Intake     2013-01-01  ...   \n",
      "3        09/16/84           22           Intake     2013-01-01  ...   \n",
      "4        09/16/84           22           Intake     2013-01-01  ...   \n",
      "...           ...          ...              ...            ...  ...   \n",
      "60838    06/21/64           22           Intake     2014-12-31  ...   \n",
      "60839    06/21/64           22           Intake     2014-12-31  ...   \n",
      "60840    02/06/85           22           Intake     2014-12-31  ...   \n",
      "60841    02/06/85           22           Intake     2014-12-31  ...   \n",
      "60842    02/06/85           22           Intake     2014-12-31  ...   \n",
      "\n",
      "       MaritalStatus_Divorced MaritalStatus_Married  MaritalStatus_Separated  \\\n",
      "0                       False                 False                    False   \n",
      "1                       False                 False                    False   \n",
      "2                       False                 False                    False   \n",
      "3                       False                  True                    False   \n",
      "4                       False                  True                    False   \n",
      "...                       ...                   ...                      ...   \n",
      "60838                   False                 False                    False   \n",
      "60839                   False                 False                    False   \n",
      "60840                   False                 False                    False   \n",
      "60841                   False                 False                    False   \n",
      "60842                   False                 False                    False   \n",
      "\n",
      "       MaritalStatus_Significant Other  MaritalStatus_Single  \\\n",
      "0                                False                  True   \n",
      "1                                False                  True   \n",
      "2                                False                  True   \n",
      "3                                False                 False   \n",
      "4                                False                 False   \n",
      "...                                ...                   ...   \n",
      "60838                            False                  True   \n",
      "60839                            False                  True   \n",
      "60840                            False                  True   \n",
      "60841                            False                  True   \n",
      "60842                            False                  True   \n",
      "\n",
      "      MaritalStatus_Unknown MaritalStatus_Widowed  \\\n",
      "0                     False                 False   \n",
      "1                     False                 False   \n",
      "2                     False                 False   \n",
      "3                     False                 False   \n",
      "4                     False                 False   \n",
      "...                     ...                   ...   \n",
      "60838                 False                 False   \n",
      "60839                 False                 False   \n",
      "60840                 False                 False   \n",
      "60841                 False                 False   \n",
      "60842                 False                 False   \n",
      "\n",
      "       DisplayText_Risk of Failure to Appear  DisplayText_Risk of Recidivism  \\\n",
      "0                                      False                           False   \n",
      "1                                      False                            True   \n",
      "2                                       True                           False   \n",
      "3                                      False                           False   \n",
      "4                                      False                            True   \n",
      "...                                      ...                             ...   \n",
      "60838                                  False                            True   \n",
      "60839                                   True                           False   \n",
      "60840                                  False                           False   \n",
      "60841                                  False                            True   \n",
      "60842                                   True                           False   \n",
      "\n",
      "       DisplayText_Risk of Violence  \n",
      "0                              True  \n",
      "1                             False  \n",
      "2                             False  \n",
      "3                              True  \n",
      "4                             False  \n",
      "...                             ...  \n",
      "60838                         False  \n",
      "60839                         False  \n",
      "60840                          True  \n",
      "60841                         False  \n",
      "60842                         False  \n",
      "\n",
      "[60795 rows x 64 columns]\n"
     ]
    }
   ],
   "source": [
    "df_OHE = df_cleaned\n",
    "df_encoded = pd.get_dummies(df_OHE, columns=['Agency_Text','Sex_Code_Text','Ethnic_Code_Text','ScaleSet','Language','LegalStatus','CustodyStatus','MaritalStatus','DisplayText'])\n",
    "print(df_cleaned.shape)\n",
    "print(df_encoded.shape)\n",
    "print(df_encoded)"
   ]
  },
  {
   "cell_type": "markdown",
   "id": "cfc1f7ab",
   "metadata": {},
   "source": [
    "## Check for duplicates"
   ]
  },
  {
   "cell_type": "code",
   "execution_count": 18,
   "id": "7f6789ef",
   "metadata": {
    "scrolled": true
   },
   "outputs": [
    {
     "name": "stdout",
     "output_type": "stream",
     "text": [
      "Duplicate Rows except first occurrence:\n",
      "Empty DataFrame\n",
      "Columns: [Person_ID, AssessmentID, Case_ID, LastName, FirstName, MiddleName, DateOfBirth, ScaleSet_ID, AssessmentReason, Screening_Date, RecSupervisionLevel, RecSupervisionLevelText, Scale_ID, RawScore, DecileScore, ScoreText, AssessmentType, IsCompleted, IsDeleted, BirthYear, ScreeningYear, Age, AgeGroup, Agency_Text_Broward County, Agency_Text_DRRD, Agency_Text_PRETRIAL, Agency_Text_Probation, Sex_Code_Text_Female, Sex_Code_Text_Male, Ethnic_Code_Text_African-American, Ethnic_Code_Text_Arabic, Ethnic_Code_Text_Asian, Ethnic_Code_Text_Caucasian, Ethnic_Code_Text_Hispanic, Ethnic_Code_Text_Native American, Ethnic_Code_Text_Oriental, Ethnic_Code_Text_Other, ScaleSet_All Scales, ScaleSet_Risk and Prescreen, Language_English, Language_Spanish, LegalStatus_Conditional Release, LegalStatus_Deferred Sentencing, LegalStatus_Other, LegalStatus_Parole Violator, LegalStatus_Post Sentence, LegalStatus_Pretrial, LegalStatus_Probation Violator, CustodyStatus_Jail Inmate, CustodyStatus_Parole, CustodyStatus_Pretrial Defendant, CustodyStatus_Prison Inmate, CustodyStatus_Probation, CustodyStatus_Residential Program, MaritalStatus_Divorced, MaritalStatus_Married, MaritalStatus_Separated, MaritalStatus_Significant Other, MaritalStatus_Single, MaritalStatus_Unknown, MaritalStatus_Widowed, DisplayText_Risk of Failure to Appear, DisplayText_Risk of Recidivism, DisplayText_Risk of Violence]\n",
      "Index: []\n",
      "\n",
      "[0 rows x 64 columns]\n"
     ]
    }
   ],
   "source": [
    "duplicate_rows = df_encoded[df_encoded.duplicated()]\n",
    "print(\"Duplicate Rows except first occurrence:\")\n",
    "print(duplicate_rows)"
   ]
  },
  {
   "cell_type": "markdown",
   "id": "aed940a9",
   "metadata": {},
   "source": [
    "## Drop unneccesary columns"
   ]
  },
  {
   "cell_type": "code",
   "execution_count": 19,
   "id": "adcab792",
   "metadata": {},
   "outputs": [],
   "source": [
    "columns_to_drop_decilescore = ['Person_ID','AssessmentID','Case_ID','LastName','FirstName','MiddleName','DateOfBirth','ScaleSet_ID','AssessmentReason','Screening_Date','RecSupervisionLevelText','Scale_ID','BirthYear','ScreeningYear','RecSupervisionLevel','ScoreText','AssessmentType','IsCompleted','IsDeleted']\n",
    "columns_to_drop_scoretext = ['Person_ID','AssessmentID','Case_ID','LastName','FirstName','MiddleName','DateOfBirth','ScaleSet_ID','AssessmentReason','Screening_Date','RecSupervisionLevelText','Scale_ID','BirthYear','ScreeningYear','RecSupervisionLevel','DecileScore','AssessmentType','IsCompleted','IsDeleted']\n",
    "\n",
    "df_dropped_decilescore = df_encoded.drop(columns=columns_to_drop_decilescore)\n",
    "df_dropped_scoretext = df_encoded.drop(columns=columns_to_drop_scoretext)"
   ]
  },
  {
   "cell_type": "code",
   "execution_count": 20,
   "id": "44bb460a",
   "metadata": {
    "scrolled": true
   },
   "outputs": [
    {
     "name": "stdout",
     "output_type": "stream",
     "text": [
      "<class 'pandas.core.frame.DataFrame'>\n",
      "Index: 60795 entries, 0 to 60842\n",
      "Data columns (total 45 columns):\n",
      " #   Column                                 Non-Null Count  Dtype   \n",
      "---  ------                                 --------------  -----   \n",
      " 0   RawScore                               60795 non-null  float64 \n",
      " 1   DecileScore                            60795 non-null  int64   \n",
      " 2   Age                                    60795 non-null  int64   \n",
      " 3   AgeGroup                               60795 non-null  category\n",
      " 4   Agency_Text_Broward County             60795 non-null  bool    \n",
      " 5   Agency_Text_DRRD                       60795 non-null  bool    \n",
      " 6   Agency_Text_PRETRIAL                   60795 non-null  bool    \n",
      " 7   Agency_Text_Probation                  60795 non-null  bool    \n",
      " 8   Sex_Code_Text_Female                   60795 non-null  bool    \n",
      " 9   Sex_Code_Text_Male                     60795 non-null  bool    \n",
      " 10  Ethnic_Code_Text_African-American      60795 non-null  bool    \n",
      " 11  Ethnic_Code_Text_Arabic                60795 non-null  bool    \n",
      " 12  Ethnic_Code_Text_Asian                 60795 non-null  bool    \n",
      " 13  Ethnic_Code_Text_Caucasian             60795 non-null  bool    \n",
      " 14  Ethnic_Code_Text_Hispanic              60795 non-null  bool    \n",
      " 15  Ethnic_Code_Text_Native American       60795 non-null  bool    \n",
      " 16  Ethnic_Code_Text_Oriental              60795 non-null  bool    \n",
      " 17  Ethnic_Code_Text_Other                 60795 non-null  bool    \n",
      " 18  ScaleSet_All Scales                    60795 non-null  bool    \n",
      " 19  ScaleSet_Risk and Prescreen            60795 non-null  bool    \n",
      " 20  Language_English                       60795 non-null  bool    \n",
      " 21  Language_Spanish                       60795 non-null  bool    \n",
      " 22  LegalStatus_Conditional Release        60795 non-null  bool    \n",
      " 23  LegalStatus_Deferred Sentencing        60795 non-null  bool    \n",
      " 24  LegalStatus_Other                      60795 non-null  bool    \n",
      " 25  LegalStatus_Parole Violator            60795 non-null  bool    \n",
      " 26  LegalStatus_Post Sentence              60795 non-null  bool    \n",
      " 27  LegalStatus_Pretrial                   60795 non-null  bool    \n",
      " 28  LegalStatus_Probation Violator         60795 non-null  bool    \n",
      " 29  CustodyStatus_Jail Inmate              60795 non-null  bool    \n",
      " 30  CustodyStatus_Parole                   60795 non-null  bool    \n",
      " 31  CustodyStatus_Pretrial Defendant       60795 non-null  bool    \n",
      " 32  CustodyStatus_Prison Inmate            60795 non-null  bool    \n",
      " 33  CustodyStatus_Probation                60795 non-null  bool    \n",
      " 34  CustodyStatus_Residential Program      60795 non-null  bool    \n",
      " 35  MaritalStatus_Divorced                 60795 non-null  bool    \n",
      " 36  MaritalStatus_Married                  60795 non-null  bool    \n",
      " 37  MaritalStatus_Separated                60795 non-null  bool    \n",
      " 38  MaritalStatus_Significant Other        60795 non-null  bool    \n",
      " 39  MaritalStatus_Single                   60795 non-null  bool    \n",
      " 40  MaritalStatus_Unknown                  60795 non-null  bool    \n",
      " 41  MaritalStatus_Widowed                  60795 non-null  bool    \n",
      " 42  DisplayText_Risk of Failure to Appear  60795 non-null  bool    \n",
      " 43  DisplayText_Risk of Recidivism         60795 non-null  bool    \n",
      " 44  DisplayText_Risk of Violence           60795 non-null  bool    \n",
      "dtypes: bool(41), category(1), float64(1), int64(2)\n",
      "memory usage: 4.3 MB\n",
      "<class 'pandas.core.frame.DataFrame'>\n",
      "Index: 60795 entries, 0 to 60842\n",
      "Data columns (total 45 columns):\n",
      " #   Column                                 Non-Null Count  Dtype   \n",
      "---  ------                                 --------------  -----   \n",
      " 0   RawScore                               60795 non-null  float64 \n",
      " 1   ScoreText                              60795 non-null  object  \n",
      " 2   Age                                    60795 non-null  int64   \n",
      " 3   AgeGroup                               60795 non-null  category\n",
      " 4   Agency_Text_Broward County             60795 non-null  bool    \n",
      " 5   Agency_Text_DRRD                       60795 non-null  bool    \n",
      " 6   Agency_Text_PRETRIAL                   60795 non-null  bool    \n",
      " 7   Agency_Text_Probation                  60795 non-null  bool    \n",
      " 8   Sex_Code_Text_Female                   60795 non-null  bool    \n",
      " 9   Sex_Code_Text_Male                     60795 non-null  bool    \n",
      " 10  Ethnic_Code_Text_African-American      60795 non-null  bool    \n",
      " 11  Ethnic_Code_Text_Arabic                60795 non-null  bool    \n",
      " 12  Ethnic_Code_Text_Asian                 60795 non-null  bool    \n",
      " 13  Ethnic_Code_Text_Caucasian             60795 non-null  bool    \n",
      " 14  Ethnic_Code_Text_Hispanic              60795 non-null  bool    \n",
      " 15  Ethnic_Code_Text_Native American       60795 non-null  bool    \n",
      " 16  Ethnic_Code_Text_Oriental              60795 non-null  bool    \n",
      " 17  Ethnic_Code_Text_Other                 60795 non-null  bool    \n",
      " 18  ScaleSet_All Scales                    60795 non-null  bool    \n",
      " 19  ScaleSet_Risk and Prescreen            60795 non-null  bool    \n",
      " 20  Language_English                       60795 non-null  bool    \n",
      " 21  Language_Spanish                       60795 non-null  bool    \n",
      " 22  LegalStatus_Conditional Release        60795 non-null  bool    \n",
      " 23  LegalStatus_Deferred Sentencing        60795 non-null  bool    \n",
      " 24  LegalStatus_Other                      60795 non-null  bool    \n",
      " 25  LegalStatus_Parole Violator            60795 non-null  bool    \n",
      " 26  LegalStatus_Post Sentence              60795 non-null  bool    \n",
      " 27  LegalStatus_Pretrial                   60795 non-null  bool    \n",
      " 28  LegalStatus_Probation Violator         60795 non-null  bool    \n",
      " 29  CustodyStatus_Jail Inmate              60795 non-null  bool    \n",
      " 30  CustodyStatus_Parole                   60795 non-null  bool    \n",
      " 31  CustodyStatus_Pretrial Defendant       60795 non-null  bool    \n",
      " 32  CustodyStatus_Prison Inmate            60795 non-null  bool    \n",
      " 33  CustodyStatus_Probation                60795 non-null  bool    \n",
      " 34  CustodyStatus_Residential Program      60795 non-null  bool    \n",
      " 35  MaritalStatus_Divorced                 60795 non-null  bool    \n",
      " 36  MaritalStatus_Married                  60795 non-null  bool    \n",
      " 37  MaritalStatus_Separated                60795 non-null  bool    \n",
      " 38  MaritalStatus_Significant Other        60795 non-null  bool    \n",
      " 39  MaritalStatus_Single                   60795 non-null  bool    \n",
      " 40  MaritalStatus_Unknown                  60795 non-null  bool    \n",
      " 41  MaritalStatus_Widowed                  60795 non-null  bool    \n",
      " 42  DisplayText_Risk of Failure to Appear  60795 non-null  bool    \n",
      " 43  DisplayText_Risk of Recidivism         60795 non-null  bool    \n",
      " 44  DisplayText_Risk of Violence           60795 non-null  bool    \n",
      "dtypes: bool(41), category(1), float64(1), int64(1), object(1)\n",
      "memory usage: 4.3+ MB\n"
     ]
    }
   ],
   "source": [
    "df_dropped_decilescore.info()\n",
    "df_dropped_scoretext.info()"
   ]
  },
  {
   "cell_type": "markdown",
   "id": "d366ff2e",
   "metadata": {},
   "source": [
    "## Training model to predict Decile Score"
   ]
  },
  {
   "cell_type": "code",
   "execution_count": 21,
   "id": "ad9fe2ce",
   "metadata": {},
   "outputs": [],
   "source": [
    "from sklearn.model_selection import train_test_split\n",
    "\n",
    "target_column = 'DecileScore'\n",
    "\n",
    "X = df_dropped_decilescore.loc[:, df_dropped_decilescore.columns != target_column]\n",
    "y = df_dropped_decilescore[target_column]\n",
    "\n",
    "X_train, X_test, y_train, y_test = train_test_split(X, y, test_size=0.4, random_state=42)"
   ]
  },
  {
   "cell_type": "code",
   "execution_count": 22,
   "id": "687c81ba",
   "metadata": {},
   "outputs": [
    {
     "name": "stdout",
     "output_type": "stream",
     "text": [
      "<class 'pandas.core.frame.DataFrame'>\n",
      "Index: 36477 entries, 40651 to 56469\n",
      "Data columns (total 44 columns):\n",
      " #   Column                                 Non-Null Count  Dtype   \n",
      "---  ------                                 --------------  -----   \n",
      " 0   RawScore                               36477 non-null  float64 \n",
      " 1   Age                                    36477 non-null  int64   \n",
      " 2   AgeGroup                               36477 non-null  category\n",
      " 3   Agency_Text_Broward County             36477 non-null  bool    \n",
      " 4   Agency_Text_DRRD                       36477 non-null  bool    \n",
      " 5   Agency_Text_PRETRIAL                   36477 non-null  bool    \n",
      " 6   Agency_Text_Probation                  36477 non-null  bool    \n",
      " 7   Sex_Code_Text_Female                   36477 non-null  bool    \n",
      " 8   Sex_Code_Text_Male                     36477 non-null  bool    \n",
      " 9   Ethnic_Code_Text_African-American      36477 non-null  bool    \n",
      " 10  Ethnic_Code_Text_Arabic                36477 non-null  bool    \n",
      " 11  Ethnic_Code_Text_Asian                 36477 non-null  bool    \n",
      " 12  Ethnic_Code_Text_Caucasian             36477 non-null  bool    \n",
      " 13  Ethnic_Code_Text_Hispanic              36477 non-null  bool    \n",
      " 14  Ethnic_Code_Text_Native American       36477 non-null  bool    \n",
      " 15  Ethnic_Code_Text_Oriental              36477 non-null  bool    \n",
      " 16  Ethnic_Code_Text_Other                 36477 non-null  bool    \n",
      " 17  ScaleSet_All Scales                    36477 non-null  bool    \n",
      " 18  ScaleSet_Risk and Prescreen            36477 non-null  bool    \n",
      " 19  Language_English                       36477 non-null  bool    \n",
      " 20  Language_Spanish                       36477 non-null  bool    \n",
      " 21  LegalStatus_Conditional Release        36477 non-null  bool    \n",
      " 22  LegalStatus_Deferred Sentencing        36477 non-null  bool    \n",
      " 23  LegalStatus_Other                      36477 non-null  bool    \n",
      " 24  LegalStatus_Parole Violator            36477 non-null  bool    \n",
      " 25  LegalStatus_Post Sentence              36477 non-null  bool    \n",
      " 26  LegalStatus_Pretrial                   36477 non-null  bool    \n",
      " 27  LegalStatus_Probation Violator         36477 non-null  bool    \n",
      " 28  CustodyStatus_Jail Inmate              36477 non-null  bool    \n",
      " 29  CustodyStatus_Parole                   36477 non-null  bool    \n",
      " 30  CustodyStatus_Pretrial Defendant       36477 non-null  bool    \n",
      " 31  CustodyStatus_Prison Inmate            36477 non-null  bool    \n",
      " 32  CustodyStatus_Probation                36477 non-null  bool    \n",
      " 33  CustodyStatus_Residential Program      36477 non-null  bool    \n",
      " 34  MaritalStatus_Divorced                 36477 non-null  bool    \n",
      " 35  MaritalStatus_Married                  36477 non-null  bool    \n",
      " 36  MaritalStatus_Separated                36477 non-null  bool    \n",
      " 37  MaritalStatus_Significant Other        36477 non-null  bool    \n",
      " 38  MaritalStatus_Single                   36477 non-null  bool    \n",
      " 39  MaritalStatus_Unknown                  36477 non-null  bool    \n",
      " 40  MaritalStatus_Widowed                  36477 non-null  bool    \n",
      " 41  DisplayText_Risk of Failure to Appear  36477 non-null  bool    \n",
      " 42  DisplayText_Risk of Recidivism         36477 non-null  bool    \n",
      " 43  DisplayText_Risk of Violence           36477 non-null  bool    \n",
      "dtypes: bool(41), category(1), float64(1), int64(1)\n",
      "memory usage: 2.3 MB\n"
     ]
    }
   ],
   "source": [
    "X_train.info()"
   ]
  },
  {
   "cell_type": "code",
   "execution_count": 23,
   "id": "cf7bb88b",
   "metadata": {},
   "outputs": [],
   "source": [
    "from sklearn.linear_model import LogisticRegression\n",
    "from sklearn.metrics import accuracy_score\n",
    "import matplotlib.pyplot as plt\n",
    "import seaborn"
   ]
  },
  {
   "cell_type": "code",
   "execution_count": 24,
   "id": "98c93dba",
   "metadata": {},
   "outputs": [
    {
     "name": "stderr",
     "output_type": "stream",
     "text": [
      "C:\\Users\\Keith\\anaconda3\\lib\\site-packages\\sklearn\\linear_model\\_sag.py:328: ConvergenceWarning: The max_iter was reached which means the coef_ did not converge\n",
      "  warnings.warn(\"The max_iter was reached which means \"\n"
     ]
    },
    {
     "data": {
      "text/plain": [
       "LogisticRegression(solver='sag')"
      ]
     },
     "execution_count": 24,
     "metadata": {},
     "output_type": "execute_result"
    }
   ],
   "source": [
    "# clf_decilescore = SVC(kernel='linear')\n",
    "\n",
    "# clf_decilescore.fit(X_train,y_train)\n",
    "\n",
    "logistic_model_decilescore = LogisticRegression(solver='sag', max_iter=100)\n",
    "\n",
    "logistic_model_decilescore.fit(X_train,y_train)"
   ]
  },
  {
   "cell_type": "code",
   "execution_count": 25,
   "id": "8e2fb28d",
   "metadata": {},
   "outputs": [
    {
     "name": "stderr",
     "output_type": "stream",
     "text": [
      "C:\\Users\\Keith\\anaconda3\\lib\\site-packages\\sklearn\\utils\\validation.py:63: FutureWarning: Arrays of bytes/strings is being converted to decimal numbers if dtype='numeric'. This behavior is deprecated in 0.24 and will be removed in 1.1 (renaming of 0.26). Please convert your data to numeric values explicitly instead.\n",
      "  return f(*args, **kwargs)\n"
     ]
    },
    {
     "name": "stdout",
     "output_type": "stream",
     "text": [
      "Train Set - Actual vs Predicted:\n",
      "       Actual  Predicted\n",
      "40651       5          2\n",
      "53253       4          2\n",
      "56516       2          1\n",
      "55263       2          2\n",
      "13564       4          4\n",
      "...       ...        ...\n",
      "54388       2          1\n",
      "38200       1          1\n",
      "860         4          3\n",
      "15814       1          1\n",
      "56469       2          1\n",
      "\n",
      "[36477 rows x 2 columns]\n",
      "\n",
      "Test Set - Actual vs Predicted:\n",
      "       Actual  Predicted\n",
      "37258       1          1\n",
      "51138       2          1\n",
      "8479        1          1\n",
      "1334        3          3\n",
      "47868       4          5\n",
      "...       ...        ...\n",
      "13369       2          1\n",
      "43238       5          3\n",
      "27584       1          1\n",
      "56390       2          3\n",
      "43321       1          1\n",
      "\n",
      "[24318 rows x 2 columns]\n",
      "\n",
      "Train Accuracy: 46.14%\n",
      "Test Accuracy: 45.78%\n"
     ]
    },
    {
     "name": "stderr",
     "output_type": "stream",
     "text": [
      "C:\\Users\\Keith\\anaconda3\\lib\\site-packages\\sklearn\\utils\\validation.py:63: FutureWarning: Arrays of bytes/strings is being converted to decimal numbers if dtype='numeric'. This behavior is deprecated in 0.24 and will be removed in 1.1 (renaming of 0.26). Please convert your data to numeric values explicitly instead.\n",
      "  return f(*args, **kwargs)\n"
     ]
    }
   ],
   "source": [
    "y_train_pred = logistic_model_decilescore.predict(X_train)\n",
    "\n",
    "y_test_pred = logistic_model_decilescore.predict(X_test)\n",
    "\n",
    "train_comparison = pd.DataFrame({'Actual': y_train, 'Predicted': y_train_pred})\n",
    "test_comparison = pd.DataFrame({'Actual': y_test, 'Predicted': y_test_pred})\n",
    "\n",
    "\n",
    "print(\"Train Set - Actual vs Predicted:\")\n",
    "print(train_comparison)\n",
    "\n",
    "print(\"\\nTest Set - Actual vs Predicted:\")\n",
    "print(test_comparison)\n",
    "\n",
    "accuracy_train = accuracy_score(y_train, y_train_pred)\n",
    "accuracy_test = accuracy_score(y_test, y_test_pred)\n",
    "\n",
    "print('\\nTrain Accuracy: {:.2f}%'.format(accuracy_train * 100))\n",
    "print('Test Accuracy: {:.2f}%'.format(accuracy_test * 100))"
   ]
  },
  {
   "cell_type": "code",
   "execution_count": 26,
   "id": "0d065e42",
   "metadata": {},
   "outputs": [
    {
     "data": {
      "text/plain": [
       "array([[7290,   83,    4,    0,    0,    0,    0,    0,    0,    0],\n",
       "       [1800, 1468,  266,   23,   28,    4,   24,    0,   12,    0],\n",
       "       [ 563, 1271, 1276,  170,   62,   18,   13,   11,   61,    1],\n",
       "       [ 275,  803,  513,  314,  136,   16,    0,   20,   71,    1],\n",
       "       [ 140,  559,  622,  310,  147,   92,    0,   22,   68,    3],\n",
       "       [ 102,  339,  367,  253,  175,  308,    2,   28,   85,    4],\n",
       "       [  37,  196,  301,  140,  115,  364,    9,   50,  109,    7],\n",
       "       [  16,   76,  189,  118,   69,  349,  103,  104,  127,   10],\n",
       "       [  12,   29,  154,   93,   41,  213,  126,  114,  154,   14],\n",
       "       [   0,    0,   72,   63,   34,  111,   74,   97,  143,   62]],\n",
       "      dtype=int64)"
      ]
     },
     "execution_count": 26,
     "metadata": {},
     "output_type": "execute_result"
    }
   ],
   "source": [
    "from sklearn import metrics\n",
    "\n",
    "cnf_matrix = metrics.confusion_matrix(y_test, y_test_pred)\n",
    "cnf_matrix\n"
   ]
  },
  {
   "cell_type": "code",
   "execution_count": 27,
   "id": "184a07da",
   "metadata": {},
   "outputs": [
    {
     "data": {
      "text/plain": [
       "Text(0.5, 257.44, 'Predicted label')"
      ]
     },
     "execution_count": 27,
     "metadata": {},
     "output_type": "execute_result"
    },
    {
     "data": {
      "image/png": "[encoded data removed]",
      "text/plain": [
       "<Figure size 432x288 with 2 Axes>"
      ]
     },
     "metadata": {
      "needs_background": "light"
     },
     "output_type": "display_data"
    }
   ],
   "source": [
    "# import required modules\n",
    "import numpy as np\n",
    "import matplotlib.pyplot as plt\n",
    "import seaborn as sns\n",
    "from sklearn import metrics\n",
    "\n",
    "cnf_matrix = metrics.confusion_matrix(y_test, y_test_pred)\n",
    "class_names=[0,1] # name  of classes\n",
    "fig, ax = plt.subplots()\n",
    "tick_marks = np.arange(len(class_names))\n",
    "plt.xticks(tick_marks, class_names)\n",
    "plt.yticks(tick_marks, class_names)\n",
    "# create heatmap\n",
    "sns.heatmap(pd.DataFrame(cnf_matrix), annot=True, cmap=\"YlGnBu\" ,fmt='g')\n",
    "ax.xaxis.set_label_position(\"top\")\n",
    "plt.tight_layout()\n",
    "plt.title('Confusion matrix', y=1.1)\n",
    "plt.ylabel('Actual label')\n",
    "plt.xlabel('Predicted label')\n",
    "\n",
    "#Text(0.5,257.44,'Predicted label');"
   ]
  },
  {
   "cell_type": "code",
   "execution_count": 28,
   "id": "f44a678b",
   "metadata": {
    "scrolled": false
   },
   "outputs": [
    {
     "data": {
      "text/plain": [
       "<AxesSubplot:ylabel='Feature'>"
      ]
     },
     "execution_count": 28,
     "metadata": {},
     "output_type": "execute_result"
    },
    {
     "data": {
      "image/png": "[encoded data removed]",
      "text/plain": [
       "<Figure size 720x432 with 1 Axes>"
      ]
     },
     "metadata": {
      "needs_background": "light"
     },
     "output_type": "display_data"
    }
   ],
   "source": [
    "coefficients = logistic_model_decilescore.coef_\n",
    "\n",
    "# print(\"Coefficients:\")\n",
    "# for i, feature in enumerate(X.columns):\n",
    "#     print(f\"{feature}: {coefficients[0, i]}\")\n",
    "\n",
    "avg_importance = np.mean(np.abs(coefficients), axis=0)\n",
    "feature_importance = pd.DataFrame({'Feature': X.columns, 'Importance': avg_importance})\n",
    "feature_importance = feature_importance.sort_values('Importance', ascending=True)\n",
    "feature_importance.plot(x='Feature', y='Importance', kind='barh', figsize=(10, 6))"
   ]
  },
  {
   "cell_type": "markdown",
   "id": "47a5f337",
   "metadata": {},
   "source": [
    "## Training model to predict Score Text"
   ]
  },
  {
   "cell_type": "code",
   "execution_count": 29,
   "id": "1b667972",
   "metadata": {},
   "outputs": [],
   "source": [
    "from sklearn.model_selection import train_test_split\n",
    "\n",
    "target_column = 'ScoreText'\n",
    "\n",
    "X = df_dropped_scoretext.loc[:, df_dropped_scoretext.columns != target_column]\n",
    "y = df_dropped_scoretext[target_column]\n",
    "\n",
    "X_train, X_test, y_train, y_test = train_test_split(X, y, test_size=0.4, random_state=42)"
   ]
  },
  {
   "cell_type": "code",
   "execution_count": 30,
   "id": "46c7a9a9",
   "metadata": {},
   "outputs": [
    {
     "name": "stdout",
     "output_type": "stream",
     "text": [
      "<class 'pandas.core.frame.DataFrame'>\n",
      "Index: 36477 entries, 40651 to 56469\n",
      "Data columns (total 44 columns):\n",
      " #   Column                                 Non-Null Count  Dtype   \n",
      "---  ------                                 --------------  -----   \n",
      " 0   RawScore                               36477 non-null  float64 \n",
      " 1   Age                                    36477 non-null  int64   \n",
      " 2   AgeGroup                               36477 non-null  category\n",
      " 3   Agency_Text_Broward County             36477 non-null  bool    \n",
      " 4   Agency_Text_DRRD                       36477 non-null  bool    \n",
      " 5   Agency_Text_PRETRIAL                   36477 non-null  bool    \n",
      " 6   Agency_Text_Probation                  36477 non-null  bool    \n",
      " 7   Sex_Code_Text_Female                   36477 non-null  bool    \n",
      " 8   Sex_Code_Text_Male                     36477 non-null  bool    \n",
      " 9   Ethnic_Code_Text_African-American      36477 non-null  bool    \n",
      " 10  Ethnic_Code_Text_Arabic                36477 non-null  bool    \n",
      " 11  Ethnic_Code_Text_Asian                 36477 non-null  bool    \n",
      " 12  Ethnic_Code_Text_Caucasian             36477 non-null  bool    \n",
      " 13  Ethnic_Code_Text_Hispanic              36477 non-null  bool    \n",
      " 14  Ethnic_Code_Text_Native American       36477 non-null  bool    \n",
      " 15  Ethnic_Code_Text_Oriental              36477 non-null  bool    \n",
      " 16  Ethnic_Code_Text_Other                 36477 non-null  bool    \n",
      " 17  ScaleSet_All Scales                    36477 non-null  bool    \n",
      " 18  ScaleSet_Risk and Prescreen            36477 non-null  bool    \n",
      " 19  Language_English                       36477 non-null  bool    \n",
      " 20  Language_Spanish                       36477 non-null  bool    \n",
      " 21  LegalStatus_Conditional Release        36477 non-null  bool    \n",
      " 22  LegalStatus_Deferred Sentencing        36477 non-null  bool    \n",
      " 23  LegalStatus_Other                      36477 non-null  bool    \n",
      " 24  LegalStatus_Parole Violator            36477 non-null  bool    \n",
      " 25  LegalStatus_Post Sentence              36477 non-null  bool    \n",
      " 26  LegalStatus_Pretrial                   36477 non-null  bool    \n",
      " 27  LegalStatus_Probation Violator         36477 non-null  bool    \n",
      " 28  CustodyStatus_Jail Inmate              36477 non-null  bool    \n",
      " 29  CustodyStatus_Parole                   36477 non-null  bool    \n",
      " 30  CustodyStatus_Pretrial Defendant       36477 non-null  bool    \n",
      " 31  CustodyStatus_Prison Inmate            36477 non-null  bool    \n",
      " 32  CustodyStatus_Probation                36477 non-null  bool    \n",
      " 33  CustodyStatus_Residential Program      36477 non-null  bool    \n",
      " 34  MaritalStatus_Divorced                 36477 non-null  bool    \n",
      " 35  MaritalStatus_Married                  36477 non-null  bool    \n",
      " 36  MaritalStatus_Separated                36477 non-null  bool    \n",
      " 37  MaritalStatus_Significant Other        36477 non-null  bool    \n",
      " 38  MaritalStatus_Single                   36477 non-null  bool    \n",
      " 39  MaritalStatus_Unknown                  36477 non-null  bool    \n",
      " 40  MaritalStatus_Widowed                  36477 non-null  bool    \n",
      " 41  DisplayText_Risk of Failure to Appear  36477 non-null  bool    \n",
      " 42  DisplayText_Risk of Recidivism         36477 non-null  bool    \n",
      " 43  DisplayText_Risk of Violence           36477 non-null  bool    \n",
      "dtypes: bool(41), category(1), float64(1), int64(1)\n",
      "memory usage: 2.3 MB\n"
     ]
    }
   ],
   "source": [
    "X_train.info()"
   ]
  },
  {
   "cell_type": "code",
   "execution_count": 31,
   "id": "9b1d69a4",
   "metadata": {},
   "outputs": [],
   "source": [
    "from sklearn.linear_model import LogisticRegression\n",
    "from sklearn.metrics import accuracy_score\n",
    "import matplotlib.pyplot as plt\n",
    "import seaborn"
   ]
  },
  {
   "cell_type": "code",
   "execution_count": 32,
   "id": "ec1ac6c9",
   "metadata": {},
   "outputs": [
    {
     "name": "stderr",
     "output_type": "stream",
     "text": [
      "C:\\Users\\Keith\\anaconda3\\lib\\site-packages\\sklearn\\linear_model\\_sag.py:328: ConvergenceWarning: The max_iter was reached which means the coef_ did not converge\n",
      "  warnings.warn(\"The max_iter was reached which means \"\n"
     ]
    },
    {
     "data": {
      "text/plain": [
       "LogisticRegression(solver='sag')"
      ]
     },
     "execution_count": 32,
     "metadata": {},
     "output_type": "execute_result"
    }
   ],
   "source": [
    "logistic_model_scoretext = LogisticRegression(solver='sag', max_iter=100)\n",
    "\n",
    "logistic_model_scoretext.fit(X_train,y_train)"
   ]
  },
  {
   "cell_type": "code",
   "execution_count": 33,
   "id": "350c3ea4",
   "metadata": {},
   "outputs": [
    {
     "name": "stderr",
     "output_type": "stream",
     "text": [
      "C:\\Users\\Keith\\anaconda3\\lib\\site-packages\\sklearn\\utils\\validation.py:63: FutureWarning: Arrays of bytes/strings is being converted to decimal numbers if dtype='numeric'. This behavior is deprecated in 0.24 and will be removed in 1.1 (renaming of 0.26). Please convert your data to numeric values explicitly instead.\n",
      "  return f(*args, **kwargs)\n",
      "C:\\Users\\Keith\\anaconda3\\lib\\site-packages\\sklearn\\utils\\validation.py:63: FutureWarning: Arrays of bytes/strings is being converted to decimal numbers if dtype='numeric'. This behavior is deprecated in 0.24 and will be removed in 1.1 (renaming of 0.26). Please convert your data to numeric values explicitly instead.\n",
      "  return f(*args, **kwargs)\n"
     ]
    },
    {
     "name": "stdout",
     "output_type": "stream",
     "text": [
      "Train Set - Actual vs Predicted:\n",
      "       Actual Predicted\n",
      "40651  Medium       Low\n",
      "53253     Low       Low\n",
      "56516     Low       Low\n",
      "55263     Low       Low\n",
      "13564     Low       Low\n",
      "...       ...       ...\n",
      "54388     Low       Low\n",
      "38200     Low       Low\n",
      "860       Low       Low\n",
      "15814     Low       Low\n",
      "56469     Low       Low\n",
      "\n",
      "[36477 rows x 2 columns]\n",
      "\n",
      "Test Set - Actual vs Predicted:\n",
      "       Actual Predicted\n",
      "37258     Low       Low\n",
      "51138     Low       Low\n",
      "8479      Low       Low\n",
      "1334      Low       Low\n",
      "47868     Low       Low\n",
      "...       ...       ...\n",
      "13369     Low       Low\n",
      "43238  Medium    Medium\n",
      "27584     Low       Low\n",
      "56390     Low       Low\n",
      "43321     Low       Low\n",
      "\n",
      "[24318 rows x 2 columns]\n",
      "\n",
      "Train Accuracy: 82.02%\n",
      "Test Accuracy: 81.63%\n"
     ]
    }
   ],
   "source": [
    "y_train_pred = logistic_model_scoretext.predict(X_train)\n",
    "\n",
    "y_test_pred = logistic_model_scoretext.predict(X_test)\n",
    "\n",
    "train_comparison = pd.DataFrame({'Actual': y_train, 'Predicted': y_train_pred})\n",
    "test_comparison = pd.DataFrame({'Actual': y_test, 'Predicted': y_test_pred})\n",
    "\n",
    "\n",
    "print(\"Train Set - Actual vs Predicted:\")\n",
    "print(train_comparison)\n",
    "\n",
    "print(\"\\nTest Set - Actual vs Predicted:\")\n",
    "print(test_comparison)\n",
    "\n",
    "accuracy_train = accuracy_score(y_train, y_train_pred)\n",
    "accuracy_test = accuracy_score(y_test, y_test_pred)\n",
    "\n",
    "print('\\nTrain Accuracy: {:.2f}%'.format(accuracy_train * 100))\n",
    "print('Test Accuracy: {:.2f}%'.format(accuracy_test * 100))"
   ]
  },
  {
   "cell_type": "code",
   "execution_count": 34,
   "id": "1458c4a9",
   "metadata": {},
   "outputs": [
    {
     "data": {
      "text/plain": [
       "Text(0.5, 257.44, 'Predicted label')"
      ]
     },
     "execution_count": 34,
     "metadata": {},
     "output_type": "execute_result"
    },
    {
     "data": {
      "image/png": "[encoded data removed]",
      "text/plain": [
       "<Figure size 432x288 with 2 Axes>"
      ]
     },
     "metadata": {
      "needs_background": "light"
     },
     "output_type": "display_data"
    }
   ],
   "source": [
    "# import required modules\n",
    "import numpy as np\n",
    "import matplotlib.pyplot as plt\n",
    "import seaborn as sns\n",
    "from sklearn import metrics\n",
    "\n",
    "cnf_matrix = metrics.confusion_matrix(y_test, y_test_pred)\n",
    "class_names=[0,1] # name  of classes\n",
    "fig, ax = plt.subplots()\n",
    "tick_marks = np.arange(len(class_names))\n",
    "plt.xticks(tick_marks, class_names)\n",
    "plt.yticks(tick_marks, class_names)\n",
    "# create heatmap\n",
    "sns.heatmap(pd.DataFrame(cnf_matrix), annot=True, cmap=\"YlGnBu\" ,fmt='g')\n",
    "ax.xaxis.set_label_position(\"top\")\n",
    "plt.tight_layout()\n",
    "plt.title('Confusion matrix', y=1.1)\n",
    "plt.ylabel('Actual label')\n",
    "plt.xlabel('Predicted label')\n",
    "\n",
    "#Text(0.5,257.44,'Predicted label');"
   ]
  },
  {
   "cell_type": "code",
   "execution_count": 35,
   "id": "e85a9b5f",
   "metadata": {},
   "outputs": [
    {
     "name": "stdout",
     "output_type": "stream",
     "text": [
      "Coefficients:\n",
      "RawScore: 0.5609526797300554\n",
      "Age: -0.014544801778425515\n",
      "AgeGroup: -0.2821562211376463\n",
      "Agency_Text_Broward County: 0.03386650550402221\n",
      "Agency_Text_DRRD: -0.287345885384513\n",
      "Agency_Text_PRETRIAL: -0.24862700677705862\n",
      "Agency_Text_Probation: -0.3523871178468942\n",
      "Sex_Code_Text_Female: -0.47076260518314156\n",
      "Sex_Code_Text_Male: -0.3837308993212545\n",
      "Ethnic_Code_Text_African-American: 0.20651034838045196\n",
      "Ethnic_Code_Text_Arabic: -0.08275372247031564\n",
      "Ethnic_Code_Text_Asian: -0.08678217002344218\n",
      "Ethnic_Code_Text_Caucasian: -0.13418651588477243\n",
      "Ethnic_Code_Text_Hispanic: -0.27973050592182874\n",
      "Ethnic_Code_Text_Native American: 0.12377099985254726\n",
      "Ethnic_Code_Text_Oriental: -0.06709131595971846\n",
      "Ethnic_Code_Text_Other: -0.5342306224772045\n",
      "ScaleSet_All Scales: -0.18253193485880048\n",
      "ScaleSet_Risk and Prescreen: -0.6719615696457182\n",
      "Language_English: -0.6498086474045428\n",
      "Language_Spanish: -0.20468485709983691\n",
      "LegalStatus_Conditional Release: -0.2804522714244494\n",
      "LegalStatus_Deferred Sentencing: -0.005275795240094296\n",
      "LegalStatus_Other: -0.2270079876468931\n",
      "LegalStatus_Parole Violator: -0.016292038360229077\n",
      "LegalStatus_Post Sentence: 0.0016436098404408162\n",
      "LegalStatus_Pretrial: -0.25400752833626594\n",
      "LegalStatus_Probation Violator: -0.07310149333696317\n",
      "CustodyStatus_Jail Inmate: -0.23279857735505408\n",
      "CustodyStatus_Parole: 0.0266216477117971\n",
      "CustodyStatus_Pretrial Defendant: -0.12229570269890509\n",
      "CustodyStatus_Prison Inmate: -0.042243885201869384\n",
      "CustodyStatus_Probation: -0.560952776520539\n",
      "CustodyStatus_Residential Program: 0.07717578956015679\n",
      "MaritalStatus_Divorced: -0.112322048797433\n",
      "MaritalStatus_Married: -0.2049098378385144\n",
      "MaritalStatus_Separated: -0.22196803687441422\n",
      "MaritalStatus_Significant Other: -0.18438294372906747\n",
      "MaritalStatus_Single: 0.00400773065001019\n",
      "MaritalStatus_Unknown: -0.17095102376225677\n",
      "MaritalStatus_Widowed: 0.03603265584721893\n",
      "DisplayText_Risk of Failure to Appear: -9.227991304774502\n",
      "DisplayText_Risk of Recidivism: 4.096767842525856\n",
      "DisplayText_Risk of Violence: 4.276729957742645\n"
     ]
    },
    {
     "data": {
      "text/plain": [
       "<AxesSubplot:ylabel='Feature'>"
      ]
     },
     "execution_count": 35,
     "metadata": {},
     "output_type": "execute_result"
    },
    {
     "data": {
      "image/png": "[encoded data removed]",
      "text/plain": [
       "<Figure size 720x432 with 1 Axes>"
      ]
     },
     "metadata": {
      "needs_background": "light"
     },
     "output_type": "display_data"
    }
   ],
   "source": [
    "coefficients = logistic_model_scoretext.coef_\n",
    "\n",
    "print(\"Coefficients:\")\n",
    "for i, feature in enumerate(X.columns):\n",
    "    print(f\"{feature}: {coefficients[0, i]}\")\n",
    "\n",
    "avg_importance = np.mean(np.abs(coefficients), axis=0)\n",
    "feature_importance = pd.DataFrame({'Feature': X.columns, 'Importance': avg_importance})\n",
    "feature_importance = feature_importance.sort_values('Importance', ascending=True)\n",
    "feature_importance.plot(x='Feature', y='Importance', kind='barh', figsize=(10, 6))"
   ]
  },
  {
   "cell_type": "markdown",
   "id": "022f514b",
   "metadata": {},
   "source": [
    "It can be seen that the 3 different Risk Text has a high feature importance, followed by the Raw Score, therefore, we will be diving deeper into each different Risk Text by splitting it into 3 different dataframes. We will also be checking if the Raw Score is correlated to the Decile Score/Score Text"
   ]
  },
  {
   "cell_type": "markdown",
   "id": "1bff6abb",
   "metadata": {},
   "source": [
    "## Check the correlation of raw score and decile score"
   ]
  },
  {
   "cell_type": "code",
   "execution_count": 36,
   "id": "e2cd8f71",
   "metadata": {},
   "outputs": [
    {
     "name": "stdout",
     "output_type": "stream",
     "text": [
      "Dataframe 1:\n",
      "            DisplayText  RawScore  DecileScore\n",
      "0      Risk of Violence     -2.08            4\n",
      "3      Risk of Violence     -2.84            2\n",
      "6      Risk of Violence     -1.20            8\n",
      "9      Risk of Violence     -1.29            7\n",
      "12     Risk of Violence     -2.90            2\n",
      "...                 ...       ...          ...\n",
      "60828  Risk of Violence     -1.61            6\n",
      "60831  Risk of Violence     -2.50            3\n",
      "60834  Risk of Violence     -3.12            1\n",
      "60837  Risk of Violence     -2.03            4\n",
      "60840  Risk of Violence     -2.75            2\n",
      "\n",
      "[20271 rows x 3 columns]\n",
      "Dataframe 2:\n",
      "              DisplayText  RawScore  DecileScore\n",
      "1      Risk of Recidivism     -1.06            2\n",
      "4      Risk of Recidivism     -1.50            1\n",
      "7      Risk of Recidivism      0.18            8\n",
      "10     Risk of Recidivism     -0.53            6\n",
      "13     Risk of Recidivism     -1.55            2\n",
      "...                   ...       ...          ...\n",
      "60829  Risk of Recidivism     -0.42            5\n",
      "60832  Risk of Recidivism     -0.36            5\n",
      "60835  Risk of Recidivism     -1.57            1\n",
      "60838  Risk of Recidivism      0.16            8\n",
      "60841  Risk of Recidivism     -0.34            5\n",
      "\n",
      "[20244 rows x 3 columns]\n",
      "Dataframe 3:\n",
      "                     DisplayText  RawScore  DecileScore\n",
      "2      Risk of Failure to Appear      15.0            1\n",
      "5      Risk of Failure to Appear      19.0            3\n",
      "8      Risk of Failure to Appear      13.0            1\n",
      "11     Risk of Failure to Appear      11.0            1\n",
      "14     Risk of Failure to Appear      16.0            2\n",
      "...                          ...       ...          ...\n",
      "60830  Risk of Failure to Appear      17.0            2\n",
      "60833  Risk of Failure to Appear      30.0            8\n",
      "60836  Risk of Failure to Appear      11.0            1\n",
      "60839  Risk of Failure to Appear      35.0           10\n",
      "60842  Risk of Failure to Appear      16.0            2\n",
      "\n",
      "[20280 rows x 3 columns]\n"
     ]
    }
   ],
   "source": [
    "#df_cleaned\n",
    "condition_1 = df_cleaned['DisplayText'].isin(['Risk of Violence'])\n",
    "condition_2 = df_cleaned['DisplayText'].isin(['Risk of Recidivism'])\n",
    "condition_3 = df_cleaned['DisplayText'].isin(['Risk of Failure to Appear'])\n",
    "\n",
    "df_1_violence = df_cleaned[condition_1].copy()\n",
    "df_2_rec = df_cleaned[condition_2].copy()\n",
    "df_3_failure = df_cleaned[condition_3].copy()\n",
    "\n",
    "print(\"Dataframe 1:\")\n",
    "print(df_1_violence[['DisplayText','RawScore','DecileScore']])\n",
    "\n",
    "print(\"Dataframe 2:\")\n",
    "print(df_2_rec[['DisplayText','RawScore','DecileScore']])\n",
    "\n",
    "print(\"Dataframe 3:\")\n",
    "print(df_3_failure[['DisplayText','RawScore','DecileScore']])"
   ]
  },
  {
   "cell_type": "code",
   "execution_count": 37,
   "id": "10c10715",
   "metadata": {},
   "outputs": [
    {
     "name": "stdout",
     "output_type": "stream",
     "text": [
      "Requirement already satisfied: seaborn in c:\\users\\keith\\anaconda3\\lib\\site-packages (0.11.2)\n",
      "Requirement already satisfied: numpy>=1.15 in c:\\users\\keith\\anaconda3\\lib\\site-packages (from seaborn) (1.22.4)\n",
      "Requirement already satisfied: matplotlib>=2.2 in c:\\users\\keith\\anaconda3\\lib\\site-packages (from seaborn) (3.4.3)\n",
      "Requirement already satisfied: pandas>=0.23 in c:\\users\\keith\\anaconda3\\lib\\site-packages (from seaborn) (2.2.1)\n",
      "Requirement already satisfied: scipy>=1.0 in c:\\users\\keith\\anaconda3\\lib\\site-packages (from seaborn) (1.7.1)\n",
      "Requirement already satisfied: python-dateutil>=2.7 in c:\\users\\keith\\anaconda3\\lib\\site-packages (from matplotlib>=2.2->seaborn) (2.8.2)\n",
      "Requirement already satisfied: cycler>=0.10 in c:\\users\\keith\\anaconda3\\lib\\site-packages (from matplotlib>=2.2->seaborn) (0.10.0)\n",
      "Requirement already satisfied: pyparsing>=2.2.1 in c:\\users\\keith\\anaconda3\\lib\\site-packages (from matplotlib>=2.2->seaborn) (3.0.4)\n",
      "Requirement already satisfied: kiwisolver>=1.0.1 in c:\\users\\keith\\anaconda3\\lib\\site-packages (from matplotlib>=2.2->seaborn) (1.3.1)\n",
      "Requirement already satisfied: pillow>=6.2.0 in c:\\users\\keith\\anaconda3\\lib\\site-packages (from matplotlib>=2.2->seaborn) (8.4.0)\n",
      "Requirement already satisfied: six in c:\\users\\keith\\anaconda3\\lib\\site-packages (from cycler>=0.10->matplotlib>=2.2->seaborn) (1.16.0)\n",
      "Requirement already satisfied: tzdata>=2022.7 in c:\\users\\keith\\anaconda3\\lib\\site-packages (from pandas>=0.23->seaborn) (2024.1)\n",
      "Requirement already satisfied: pytz>=2020.1 in c:\\users\\keith\\anaconda3\\lib\\site-packages (from pandas>=0.23->seaborn) (2021.3)\n",
      "Note: you may need to restart the kernel to use updated packages.\n"
     ]
    }
   ],
   "source": [
    "pip install seaborn"
   ]
  },
  {
   "cell_type": "code",
   "execution_count": 38,
   "id": "484b008f",
   "metadata": {
    "scrolled": false
   },
   "outputs": [
    {
     "data": {
      "image/png": "[encoded data removed]",
      "text/plain": [
       "<Figure size 432x288 with 1 Axes>"
      ]
     },
     "metadata": {
      "needs_background": "light"
     },
     "output_type": "display_data"
    },
    {
     "data": {
      "image/png": "[encoded data removed]",
      "text/plain": [
       "<Figure size 432x288 with 1 Axes>"
      ]
     },
     "metadata": {
      "needs_background": "light"
     },
     "output_type": "display_data"
    },
    {
     "data": {
      "image/png": "[encoded data removed]",
      "text/plain": [
       "<Figure size 432x288 with 1 Axes>"
      ]
     },
     "metadata": {
      "needs_background": "light"
     },
     "output_type": "display_data"
    }
   ],
   "source": [
    "import seaborn as sns\n",
    "import matplotlib.pyplot as plt\n",
    "\n",
    "# Plot correlation for DataFrame 1\n",
    "sns.scatterplot(data=df_1_violence, x='RawScore', y='DecileScore', label='DataFrame 1')\n",
    "plt.title('Correlation between RawScore and DecileScore - DataFrame 1')\n",
    "plt.show()\n",
    "\n",
    "# Plot correlation for DataFrame 2\n",
    "sns.scatterplot(data=df_2_rec, x='RawScore', y='DecileScore', label='DataFrame 2')\n",
    "plt.title('Correlation between RawScore and DecileScore - DataFrame 2')\n",
    "plt.show()\n",
    "\n",
    "# Plot correlation for DataFrame 3\n",
    "sns.scatterplot(data=df_3_failure, x='RawScore', y='DecileScore', label='DataFrame 3')\n",
    "plt.title('Correlation between RawScore and DecileScore - DataFrame 3')\n",
    "plt.show()"
   ]
  },
  {
   "cell_type": "markdown",
   "id": "8fcc142d",
   "metadata": {},
   "source": [
    "With this, we can see that the raw score is clearly correlated to the decile score, therefore we drop the raw score and decile score as it is all correlated to ScoreText"
   ]
  },
  {
   "cell_type": "code",
   "execution_count": 39,
   "id": "bfca125f",
   "metadata": {},
   "outputs": [
    {
     "name": "stdout",
     "output_type": "stream",
     "text": [
      "<class 'pandas.core.frame.DataFrame'>\n",
      "Index: 20271 entries, 0 to 60840\n",
      "Data columns (total 10 columns):\n",
      " #   Column            Non-Null Count  Dtype   \n",
      "---  ------            --------------  -----   \n",
      " 0   Agency_Text       20271 non-null  object  \n",
      " 1   Sex_Code_Text     20271 non-null  object  \n",
      " 2   Ethnic_Code_Text  20271 non-null  object  \n",
      " 3   ScaleSet          20271 non-null  object  \n",
      " 4   Language          20271 non-null  object  \n",
      " 5   LegalStatus       20271 non-null  object  \n",
      " 6   CustodyStatus     20271 non-null  object  \n",
      " 7   MaritalStatus     20271 non-null  object  \n",
      " 8   ScoreText         20271 non-null  object  \n",
      " 9   AgeGroup          20271 non-null  category\n",
      "dtypes: category(1), object(9)\n",
      "memory usage: 1.6+ MB\n"
     ]
    }
   ],
   "source": [
    "columns_to_drop = ['Person_ID','AssessmentID','Case_ID','LastName','FirstName','MiddleName','DateOfBirth','ScaleSet_ID','AssessmentReason','Screening_Date','RecSupervisionLevelText','Scale_ID','BirthYear','ScreeningYear','RecSupervisionLevel','RawScore','DecileScore','DisplayText','AssessmentType','IsCompleted','IsDeleted','Age']\n",
    "\n",
    "\n",
    "df_violence = df_1_violence.drop(columns = columns_to_drop)\n",
    "df_rec = df_2_rec.drop(columns = columns_to_drop)\n",
    "df_failure = df_3_failure.drop(columns = columns_to_drop)\n",
    "\n",
    "df_violence.info()"
   ]
  },
  {
   "cell_type": "code",
   "execution_count": 40,
   "id": "1dcb4067",
   "metadata": {
    "scrolled": true
   },
   "outputs": [
    {
     "name": "stdout",
     "output_type": "stream",
     "text": [
      "      ScoreText AgeGroup  Agency_Text_Broward County  Agency_Text_DRRD  \\\n",
      "0           Low        1                       False             False   \n",
      "3           Low        2                       False             False   \n",
      "6          High        1                       False             False   \n",
      "9        Medium        1                       False             False   \n",
      "12          Low        2                       False             False   \n",
      "...         ...      ...                         ...               ...   \n",
      "60828    Medium        2                       False             False   \n",
      "60831       Low        2                       False             False   \n",
      "60834       Low        2                       False             False   \n",
      "60837       Low        2                       False             False   \n",
      "60840       Low        2                       False             False   \n",
      "\n",
      "       Agency_Text_PRETRIAL  Agency_Text_Probation  Sex_Code_Text_Female  \\\n",
      "0                      True                  False                 False   \n",
      "3                      True                  False                 False   \n",
      "6                      True                  False                 False   \n",
      "9                      True                  False                  True   \n",
      "12                     True                  False                  True   \n",
      "...                     ...                    ...                   ...   \n",
      "60828                  True                  False                 False   \n",
      "60831                  True                  False                 False   \n",
      "60834                  True                  False                 False   \n",
      "60837                 False                   True                 False   \n",
      "60840                  True                  False                 False   \n",
      "\n",
      "       Sex_Code_Text_Male  Ethnic_Code_Text_African-American  \\\n",
      "0                    True                              False   \n",
      "3                    True                              False   \n",
      "6                    True                               True   \n",
      "9                   False                               True   \n",
      "12                  False                               True   \n",
      "...                   ...                                ...   \n",
      "60828                True                              False   \n",
      "60831                True                              False   \n",
      "60834                True                              False   \n",
      "60837                True                               True   \n",
      "60840                True                              False   \n",
      "\n",
      "       Ethnic_Code_Text_Arabic  ...  CustodyStatus_Prison Inmate  \\\n",
      "0                        False  ...                        False   \n",
      "3                        False  ...                        False   \n",
      "6                        False  ...                        False   \n",
      "9                        False  ...                        False   \n",
      "12                       False  ...                        False   \n",
      "...                        ...  ...                          ...   \n",
      "60828                    False  ...                        False   \n",
      "60831                    False  ...                        False   \n",
      "60834                    False  ...                        False   \n",
      "60837                    False  ...                        False   \n",
      "60840                    False  ...                        False   \n",
      "\n",
      "       CustodyStatus_Probation  CustodyStatus_Residential Program  \\\n",
      "0                        False                              False   \n",
      "3                        False                              False   \n",
      "6                        False                              False   \n",
      "9                        False                              False   \n",
      "12                       False                              False   \n",
      "...                        ...                                ...   \n",
      "60828                    False                              False   \n",
      "60831                     True                              False   \n",
      "60834                    False                              False   \n",
      "60837                    False                              False   \n",
      "60840                    False                              False   \n",
      "\n",
      "       MaritalStatus_Divorced  MaritalStatus_Married  MaritalStatus_Separated  \\\n",
      "0                       False                  False                    False   \n",
      "3                       False                   True                    False   \n",
      "6                       False                  False                    False   \n",
      "9                       False                  False                    False   \n",
      "12                      False                  False                    False   \n",
      "...                       ...                    ...                      ...   \n",
      "60828                   False                  False                    False   \n",
      "60831                   False                  False                    False   \n",
      "60834                   False                  False                    False   \n",
      "60837                   False                  False                    False   \n",
      "60840                   False                  False                    False   \n",
      "\n",
      "       MaritalStatus_Significant Other  MaritalStatus_Single  \\\n",
      "0                                False                  True   \n",
      "3                                False                 False   \n",
      "6                                False                  True   \n",
      "9                                 True                 False   \n",
      "12                               False                  True   \n",
      "...                                ...                   ...   \n",
      "60828                            False                  True   \n",
      "60831                            False                  True   \n",
      "60834                            False                  True   \n",
      "60837                            False                  True   \n",
      "60840                            False                  True   \n",
      "\n",
      "       MaritalStatus_Unknown  MaritalStatus_Widowed  \n",
      "0                      False                  False  \n",
      "3                      False                  False  \n",
      "6                      False                  False  \n",
      "9                      False                  False  \n",
      "12                     False                  False  \n",
      "...                      ...                    ...  \n",
      "60828                  False                  False  \n",
      "60831                  False                  False  \n",
      "60834                  False                  False  \n",
      "60837                  False                  False  \n",
      "60840                  False                  False  \n",
      "\n",
      "[20271 rows x 40 columns]\n"
     ]
    }
   ],
   "source": [
    "df_violence_enc = pd.get_dummies(df_violence, columns=['Agency_Text','Sex_Code_Text','Ethnic_Code_Text','ScaleSet','Language','LegalStatus','CustodyStatus','MaritalStatus'])\n",
    "df_rec_enc = pd.get_dummies(df_rec, columns=['Agency_Text','Sex_Code_Text','Ethnic_Code_Text','ScaleSet','Language','LegalStatus','CustodyStatus','MaritalStatus'])\n",
    "df_failure_enc = pd.get_dummies(df_failure, columns=['Agency_Text','Sex_Code_Text','Ethnic_Code_Text','ScaleSet','Language','LegalStatus','CustodyStatus','MaritalStatus'])\n",
    "\n",
    "print(df_violence_enc)"
   ]
  },
  {
   "cell_type": "markdown",
   "id": "b6fdc657",
   "metadata": {},
   "source": [
    "### Model for risk of violence"
   ]
  },
  {
   "cell_type": "code",
   "execution_count": 41,
   "id": "81d1f998",
   "metadata": {},
   "outputs": [],
   "source": [
    "from sklearn.model_selection import train_test_split\n",
    "\n",
    "target_column = 'ScoreText'\n",
    "\n",
    "X = df_violence_enc.loc[:, df_violence_enc.columns != target_column]\n",
    "y = df_violence_enc[target_column]\n",
    "\n",
    "X_train, X_test, y_train, y_test = train_test_split(X, y, test_size=0.4, random_state=42)"
   ]
  },
  {
   "cell_type": "code",
   "execution_count": 42,
   "id": "e1cc1a83",
   "metadata": {},
   "outputs": [
    {
     "name": "stdout",
     "output_type": "stream",
     "text": [
      "<class 'pandas.core.frame.DataFrame'>\n",
      "Index: 12162 entries, 17484 to 47415\n",
      "Data columns (total 39 columns):\n",
      " #   Column                             Non-Null Count  Dtype   \n",
      "---  ------                             --------------  -----   \n",
      " 0   AgeGroup                           12162 non-null  category\n",
      " 1   Agency_Text_Broward County         12162 non-null  bool    \n",
      " 2   Agency_Text_DRRD                   12162 non-null  bool    \n",
      " 3   Agency_Text_PRETRIAL               12162 non-null  bool    \n",
      " 4   Agency_Text_Probation              12162 non-null  bool    \n",
      " 5   Sex_Code_Text_Female               12162 non-null  bool    \n",
      " 6   Sex_Code_Text_Male                 12162 non-null  bool    \n",
      " 7   Ethnic_Code_Text_African-American  12162 non-null  bool    \n",
      " 8   Ethnic_Code_Text_Arabic            12162 non-null  bool    \n",
      " 9   Ethnic_Code_Text_Asian             12162 non-null  bool    \n",
      " 10  Ethnic_Code_Text_Caucasian         12162 non-null  bool    \n",
      " 11  Ethnic_Code_Text_Hispanic          12162 non-null  bool    \n",
      " 12  Ethnic_Code_Text_Native American   12162 non-null  bool    \n",
      " 13  Ethnic_Code_Text_Oriental          12162 non-null  bool    \n",
      " 14  Ethnic_Code_Text_Other             12162 non-null  bool    \n",
      " 15  ScaleSet_All Scales                12162 non-null  bool    \n",
      " 16  ScaleSet_Risk and Prescreen        12162 non-null  bool    \n",
      " 17  Language_English                   12162 non-null  bool    \n",
      " 18  Language_Spanish                   12162 non-null  bool    \n",
      " 19  LegalStatus_Conditional Release    12162 non-null  bool    \n",
      " 20  LegalStatus_Deferred Sentencing    12162 non-null  bool    \n",
      " 21  LegalStatus_Other                  12162 non-null  bool    \n",
      " 22  LegalStatus_Parole Violator        12162 non-null  bool    \n",
      " 23  LegalStatus_Post Sentence          12162 non-null  bool    \n",
      " 24  LegalStatus_Pretrial               12162 non-null  bool    \n",
      " 25  LegalStatus_Probation Violator     12162 non-null  bool    \n",
      " 26  CustodyStatus_Jail Inmate          12162 non-null  bool    \n",
      " 27  CustodyStatus_Parole               12162 non-null  bool    \n",
      " 28  CustodyStatus_Pretrial Defendant   12162 non-null  bool    \n",
      " 29  CustodyStatus_Prison Inmate        12162 non-null  bool    \n",
      " 30  CustodyStatus_Probation            12162 non-null  bool    \n",
      " 31  CustodyStatus_Residential Program  12162 non-null  bool    \n",
      " 32  MaritalStatus_Divorced             12162 non-null  bool    \n",
      " 33  MaritalStatus_Married              12162 non-null  bool    \n",
      " 34  MaritalStatus_Separated            12162 non-null  bool    \n",
      " 35  MaritalStatus_Significant Other    12162 non-null  bool    \n",
      " 36  MaritalStatus_Single               12162 non-null  bool    \n",
      " 37  MaritalStatus_Unknown              12162 non-null  bool    \n",
      " 38  MaritalStatus_Widowed              12162 non-null  bool    \n",
      "dtypes: bool(38), category(1)\n",
      "memory usage: 558.3 KB\n"
     ]
    }
   ],
   "source": [
    "X_train.info()"
   ]
  },
  {
   "cell_type": "code",
   "execution_count": 43,
   "id": "b2de6c3f",
   "metadata": {},
   "outputs": [],
   "source": [
    "from sklearn.linear_model import LogisticRegression\n",
    "from sklearn.metrics import accuracy_score\n",
    "import matplotlib.pyplot as plt\n",
    "import seaborn"
   ]
  },
  {
   "cell_type": "code",
   "execution_count": 44,
   "id": "0e7a9f3a",
   "metadata": {},
   "outputs": [
    {
     "data": {
      "text/plain": [
       "LogisticRegression(solver='sag')"
      ]
     },
     "execution_count": 44,
     "metadata": {},
     "output_type": "execute_result"
    }
   ],
   "source": [
    "logistic_model_violence = LogisticRegression(solver='sag', max_iter=100)\n",
    "\n",
    "logistic_model_violence.fit(X_train,y_train)"
   ]
  },
  {
   "cell_type": "code",
   "execution_count": 45,
   "id": "c5c9c507",
   "metadata": {},
   "outputs": [
    {
     "name": "stdout",
     "output_type": "stream",
     "text": [
      "Train Set - Actual vs Predicted:\n",
      "       Actual Predicted\n",
      "17484  Medium       Low\n",
      "30381    High    Medium\n",
      "14166    High    Medium\n",
      "15153     Low       Low\n",
      "6648     High       Low\n",
      "...       ...       ...\n",
      "33882  Medium       Low\n",
      "35922     Low       Low\n",
      "16188     Low       Low\n",
      "2580      Low       Low\n",
      "47415     Low       Low\n",
      "\n",
      "[12162 rows x 2 columns]\n",
      "\n",
      "Test Set - Actual vs Predicted:\n",
      "       Actual Predicted\n",
      "50697     Low       Low\n",
      "35886  Medium       Low\n",
      "54774     Low       Low\n",
      "15075     Low       Low\n",
      "29826     Low       Low\n",
      "...       ...       ...\n",
      "8298      Low       Low\n",
      "29958    High    Medium\n",
      "19038     Low       Low\n",
      "19515     Low       Low\n",
      "46047     Low       Low\n",
      "\n",
      "[8109 rows x 2 columns]\n",
      "\n",
      "Train Accuracy: 77.36%\n",
      "Test Accuracy: 77.44%\n"
     ]
    },
    {
     "name": "stderr",
     "output_type": "stream",
     "text": [
      "C:\\Users\\Keith\\anaconda3\\lib\\site-packages\\sklearn\\utils\\validation.py:63: FutureWarning: Arrays of bytes/strings is being converted to decimal numbers if dtype='numeric'. This behavior is deprecated in 0.24 and will be removed in 1.1 (renaming of 0.26). Please convert your data to numeric values explicitly instead.\n",
      "  return f(*args, **kwargs)\n",
      "C:\\Users\\Keith\\anaconda3\\lib\\site-packages\\sklearn\\utils\\validation.py:63: FutureWarning: Arrays of bytes/strings is being converted to decimal numbers if dtype='numeric'. This behavior is deprecated in 0.24 and will be removed in 1.1 (renaming of 0.26). Please convert your data to numeric values explicitly instead.\n",
      "  return f(*args, **kwargs)\n"
     ]
    }
   ],
   "source": [
    "y_train_pred = logistic_model_violence.predict(X_train)\n",
    "\n",
    "y_test_pred = logistic_model_violence.predict(X_test)\n",
    "\n",
    "train_comparison = pd.DataFrame({'Actual': y_train, 'Predicted': y_train_pred})\n",
    "test_comparison = pd.DataFrame({'Actual': y_test, 'Predicted': y_test_pred})\n",
    "\n",
    "\n",
    "print(\"Train Set - Actual vs Predicted:\")\n",
    "print(train_comparison)\n",
    "\n",
    "print(\"\\nTest Set - Actual vs Predicted:\")\n",
    "print(test_comparison)\n",
    "\n",
    "accuracy_train = accuracy_score(y_train, y_train_pred)\n",
    "accuracy_test = accuracy_score(y_test, y_test_pred)\n",
    "\n",
    "print('\\nTrain Accuracy: {:.2f}%'.format(accuracy_train * 100))\n",
    "print('Test Accuracy: {:.2f}%'.format(accuracy_test * 100))"
   ]
  },
  {
   "cell_type": "code",
   "execution_count": 46,
   "id": "41665864",
   "metadata": {
    "scrolled": false
   },
   "outputs": [
    {
     "name": "stdout",
     "output_type": "stream",
     "text": [
      "Coefficients:\n",
      "AgeGroup: -0.9047091505512218\n",
      "Agency_Text_Broward County: 0.10329052838325092\n",
      "Agency_Text_DRRD: 0.04125917618781099\n",
      "Agency_Text_PRETRIAL: 0.0632153296226555\n",
      "Agency_Text_Probation: -0.21140726823878184\n",
      "Sex_Code_Text_Female: -0.3254951292705574\n",
      "Sex_Code_Text_Male: 0.32185289522533955\n",
      "Ethnic_Code_Text_African-American: 0.5346958913887335\n",
      "Ethnic_Code_Text_Arabic: -0.5853416299570844\n",
      "Ethnic_Code_Text_Asian: -0.6860012534107107\n",
      "Ethnic_Code_Text_Caucasian: -0.12587619060680805\n",
      "Ethnic_Code_Text_Hispanic: 0.025385798932881228\n",
      "Ethnic_Code_Text_Native American: 0.5644786920582676\n",
      "Ethnic_Code_Text_Oriental: 0.557466044605313\n",
      "Ethnic_Code_Text_Other: -0.28844958705575496\n",
      "ScaleSet_All Scales: 0.5751339303749641\n",
      "ScaleSet_Risk and Prescreen: -0.5787761644200725\n",
      "Language_English: 0.3693548287476403\n",
      "Language_Spanish: -0.37299706279272127\n",
      "LegalStatus_Conditional Release: -0.48851261062619095\n",
      "LegalStatus_Deferred Sentencing: 0.39134245023920883\n",
      "LegalStatus_Other: -0.38723241132019254\n",
      "LegalStatus_Parole Violator: -0.02879190815473234\n",
      "LegalStatus_Post Sentence: 0.08178010997156165\n",
      "LegalStatus_Pretrial: 0.28956930827094324\n",
      "LegalStatus_Probation Violator: 0.1382028275742017\n",
      "CustodyStatus_Jail Inmate: -0.148603954342936\n",
      "CustodyStatus_Parole: -0.0004286175891082486\n",
      "CustodyStatus_Pretrial Defendant: -0.004535674057590109\n",
      "CustodyStatus_Prison Inmate: -0.07677859266758634\n",
      "CustodyStatus_Probation: -0.24269817622696546\n",
      "CustodyStatus_Residential Program: 0.4694027808389782\n",
      "MaritalStatus_Divorced: 0.13248668891340376\n",
      "MaritalStatus_Married: 0.22635185015817594\n",
      "MaritalStatus_Separated: -0.4404780163065698\n",
      "MaritalStatus_Significant Other: 0.47847831472005314\n",
      "MaritalStatus_Single: 0.559572628742355\n",
      "MaritalStatus_Unknown: -0.5411578321322851\n",
      "MaritalStatus_Widowed: -0.4188958681401973\n"
     ]
    },
    {
     "data": {
      "image/png": "[encoded data removed]",
      "text/plain": [
       "<Figure size 720x432 with 1 Axes>"
      ]
     },
     "metadata": {
      "needs_background": "light"
     },
     "output_type": "display_data"
    },
    {
     "data": {
      "image/png": "[encoded data removed]",
      "text/plain": [
       "<Figure size 720x432 with 1 Axes>"
      ]
     },
     "metadata": {
      "needs_background": "light"
     },
     "output_type": "display_data"
    }
   ],
   "source": [
    "coefficients = logistic_model_violence.coef_\n",
    "\n",
    "print(\"Coefficients:\")\n",
    "for i, feature in enumerate(X.columns):\n",
    "    print(f\"{feature}: {coefficients[0, i]}\")\n",
    "    \n",
    "# Calculate mean using absolute values\n",
    "avg_importance_abs = np.mean(np.abs(coefficients), axis=0)\n",
    "\n",
    "# Create a DataFrame with Feature, Absolute Importance, and Sign\n",
    "feature_importance = pd.DataFrame({'Feature': X.columns, 'Importance': avg_importance_abs, 'Sign': np.sign(coefficients[0])})\n",
    "\n",
    "# Sort the DataFrame based on absolute importance\n",
    "feature_importance = feature_importance.sort_values('Importance', ascending=True)\n",
    "\n",
    "# Separate positive and negative contributions\n",
    "positive_contributions = feature_importance[feature_importance['Sign'] > 0]\n",
    "negative_contributions = feature_importance[feature_importance['Sign'] < 0]\n",
    "\n",
    "# Plot positive contributions\n",
    "plt.figure(figsize=(10, 6))\n",
    "sns.barplot(x='Importance', y='Feature', data=positive_contributions, color='green')\n",
    "plt.title('Positive Feature Importance')\n",
    "plt.show()\n",
    "\n",
    "# Plot negative contributions\n",
    "plt.figure(figsize=(10, 6))\n",
    "sns.barplot(x='Importance', y='Feature', data=negative_contributions, color='red')\n",
    "plt.title('Negative Feature Importance')\n",
    "plt.show()"
   ]
  },
  {
   "cell_type": "markdown",
   "id": "98ede9a7",
   "metadata": {},
   "source": [
    "A high negative feature importance can be seen on Age Group can be seen, this is because as a person starts to get older, the less likely they are to commit a violence crime\n",
    "\n",
    "It can also be seen that the African American and Native American have a high positive feature importance, showing that there is a higher chance of someone committing a violent crime if they are of those ethnicity"
   ]
  },
  {
   "cell_type": "markdown",
   "id": "cfa4fb4e",
   "metadata": {},
   "source": [
    "## Model for Risk of Rec"
   ]
  },
  {
   "cell_type": "code",
   "execution_count": 47,
   "id": "962c57a7",
   "metadata": {},
   "outputs": [],
   "source": [
    "from sklearn.model_selection import train_test_split\n",
    "\n",
    "target_column = 'ScoreText'\n",
    "\n",
    "X = df_rec_enc.loc[:, df_rec_enc.columns != target_column]\n",
    "y = df_rec_enc[target_column]\n",
    "\n",
    "X_train, X_test, y_train, y_test = train_test_split(X, y, test_size=0.4, random_state=42)"
   ]
  },
  {
   "cell_type": "code",
   "execution_count": 48,
   "id": "126af503",
   "metadata": {},
   "outputs": [
    {
     "data": {
      "text/plain": [
       "LogisticRegression(solver='sag')"
      ]
     },
     "execution_count": 48,
     "metadata": {},
     "output_type": "execute_result"
    }
   ],
   "source": [
    "logistic_model_rec = LogisticRegression(solver='sag', max_iter=100)\n",
    "\n",
    "logistic_model_rec.fit(X_train,y_train)"
   ]
  },
  {
   "cell_type": "code",
   "execution_count": 49,
   "id": "d3f4f03b",
   "metadata": {},
   "outputs": [
    {
     "name": "stdout",
     "output_type": "stream",
     "text": [
      "Train Set - Actual vs Predicted:\n",
      "       Actual Predicted\n",
      "16372     Low       Low\n",
      "41578     Low       Low\n",
      "36658     Low       Low\n",
      "58576     Low       Low\n",
      "41377  Medium       Low\n",
      "...       ...       ...\n",
      "33931     Low       Low\n",
      "35980     Low       Low\n",
      "16210    High       Low\n",
      "2584      Low       Low\n",
      "47488     Low       Low\n",
      "\n",
      "[12146 rows x 2 columns]\n",
      "\n",
      "Test Set - Actual vs Predicted:\n",
      "       Actual Predicted\n",
      "22834    High       Low\n",
      "1156     High       Low\n",
      "6811   Medium       Low\n",
      "9760     High       Low\n",
      "54043     Low       Low\n",
      "...       ...       ...\n",
      "8842   Medium      High\n",
      "56581  Medium       Low\n",
      "27451  Medium       Low\n",
      "19951    High       Low\n",
      "24460  Medium      High\n",
      "\n",
      "[8098 rows x 2 columns]\n",
      "\n",
      "Train Accuracy: 59.67%\n",
      "Test Accuracy: 59.95%\n"
     ]
    },
    {
     "name": "stderr",
     "output_type": "stream",
     "text": [
      "C:\\Users\\Keith\\anaconda3\\lib\\site-packages\\sklearn\\utils\\validation.py:63: FutureWarning: Arrays of bytes/strings is being converted to decimal numbers if dtype='numeric'. This behavior is deprecated in 0.24 and will be removed in 1.1 (renaming of 0.26). Please convert your data to numeric values explicitly instead.\n",
      "  return f(*args, **kwargs)\n",
      "C:\\Users\\Keith\\anaconda3\\lib\\site-packages\\sklearn\\utils\\validation.py:63: FutureWarning: Arrays of bytes/strings is being converted to decimal numbers if dtype='numeric'. This behavior is deprecated in 0.24 and will be removed in 1.1 (renaming of 0.26). Please convert your data to numeric values explicitly instead.\n",
      "  return f(*args, **kwargs)\n"
     ]
    }
   ],
   "source": [
    "y_train_pred = logistic_model_rec.predict(X_train)\n",
    "\n",
    "y_test_pred = logistic_model_rec.predict(X_test)\n",
    "\n",
    "train_comparison = pd.DataFrame({'Actual': y_train, 'Predicted': y_train_pred})\n",
    "test_comparison = pd.DataFrame({'Actual': y_test, 'Predicted': y_test_pred})\n",
    "\n",
    "\n",
    "print(\"Train Set - Actual vs Predicted:\")\n",
    "print(train_comparison)\n",
    "\n",
    "print(\"\\nTest Set - Actual vs Predicted:\")\n",
    "print(test_comparison)\n",
    "\n",
    "accuracy_train = accuracy_score(y_train, y_train_pred)\n",
    "accuracy_test = accuracy_score(y_test, y_test_pred)\n",
    "\n",
    "print('\\nTrain Accuracy: {:.2f}%'.format(accuracy_train * 100))\n",
    "print('Test Accuracy: {:.2f}%'.format(accuracy_test * 100))"
   ]
  },
  {
   "cell_type": "code",
   "execution_count": 50,
   "id": "74c2f9df",
   "metadata": {
    "scrolled": false
   },
   "outputs": [
    {
     "name": "stdout",
     "output_type": "stream",
     "text": [
      "Coefficients:\n",
      "AgeGroup: -0.48769408082877924\n",
      "Agency_Text_Broward County: 0.10351837969262966\n",
      "Agency_Text_DRRD: 0.0028199715063931255\n",
      "Agency_Text_PRETRIAL: -0.04014456224887471\n",
      "Agency_Text_Probation: -0.0679927462907992\n",
      "Sex_Code_Text_Female: -0.11479271172184054\n",
      "Sex_Code_Text_Male: 0.11299375438135303\n",
      "Ethnic_Code_Text_African-American: 0.5983730971947566\n",
      "Ethnic_Code_Text_Arabic: -0.7108174947901462\n",
      "Ethnic_Code_Text_Asian: -0.28977173867000583\n",
      "Ethnic_Code_Text_Caucasian: 0.017995002974358406\n",
      "Ethnic_Code_Text_Hispanic: -0.10440068905022193\n",
      "Ethnic_Code_Text_Native American: 0.7229317279079218\n",
      "Ethnic_Code_Text_Oriental: 0.18929014323709603\n",
      "Ethnic_Code_Text_Other: -0.4253990061443654\n",
      "ScaleSet_All Scales: 0.3398269787078365\n",
      "ScaleSet_Risk and Prescreen: -0.34162593604821745\n",
      "Language_English: 0.572298078182627\n",
      "Language_Spanish: -0.5740970355230851\n",
      "LegalStatus_Conditional Release: -0.19731979255777196\n",
      "LegalStatus_Deferred Sentencing: -0.2569280167904142\n",
      "LegalStatus_Other: -0.07131231029343638\n",
      "LegalStatus_Parole Violator: -0.12956444639504228\n",
      "LegalStatus_Post Sentence: 0.3025473419014303\n",
      "LegalStatus_Pretrial: 0.28346237304621286\n",
      "LegalStatus_Probation Violator: 0.06731589374847093\n",
      "CustodyStatus_Jail Inmate: -0.07619085646774515\n",
      "CustodyStatus_Parole: 0.036162921958773395\n",
      "CustodyStatus_Pretrial Defendant: 0.012646582877697331\n",
      "CustodyStatus_Prison Inmate: -0.19552646368814738\n",
      "CustodyStatus_Probation: -0.13677812706753925\n",
      "CustodyStatus_Residential Program: 0.35788698504666194\n",
      "MaritalStatus_Divorced: -0.37051647501739665\n",
      "MaritalStatus_Married: -0.1736013054823843\n",
      "MaritalStatus_Separated: 0.06065224092998663\n",
      "MaritalStatus_Significant Other: 0.19400506860408773\n",
      "MaritalStatus_Single: 0.3738969001359161\n",
      "MaritalStatus_Unknown: -0.3329942529646326\n",
      "MaritalStatus_Widowed: 0.24675886645351577\n"
     ]
    },
    {
     "data": {
      "image/png": "[encoded data removed]",
      "text/plain": [
       "<Figure size 720x432 with 1 Axes>"
      ]
     },
     "metadata": {
      "needs_background": "light"
     },
     "output_type": "display_data"
    },
    {
     "data": {
      "image/png": "[encoded data removed]",
      "text/plain": [
       "<Figure size 720x432 with 1 Axes>"
      ]
     },
     "metadata": {
      "needs_background": "light"
     },
     "output_type": "display_data"
    }
   ],
   "source": [
    "coefficients = logistic_model_rec.coef_\n",
    "\n",
    "print(\"Coefficients:\")\n",
    "for i, feature in enumerate(X.columns):\n",
    "    print(f\"{feature}: {coefficients[0, i]}\")\n",
    "    \n",
    "# Calculate mean using absolute values\n",
    "avg_importance_abs = np.mean(np.abs(coefficients), axis=0)\n",
    "\n",
    "# Create a DataFrame with Feature, Absolute Importance, and Sign\n",
    "feature_importance = pd.DataFrame({'Feature': X.columns, 'Importance': avg_importance_abs, 'Sign': np.sign(coefficients[0])})\n",
    "\n",
    "# Sort the DataFrame based on absolute importance\n",
    "feature_importance = feature_importance.sort_values('Importance', ascending=True)\n",
    "\n",
    "# Separate positive and negative contributions\n",
    "positive_contributions = feature_importance[feature_importance['Sign'] > 0]\n",
    "negative_contributions = feature_importance[feature_importance['Sign'] < 0]\n",
    "\n",
    "# Plot positive contributions\n",
    "plt.figure(figsize=(10, 6))\n",
    "sns.barplot(x='Importance', y='Feature', data=positive_contributions, color='green')\n",
    "plt.title('Positive Feature Importance')\n",
    "plt.show()\n",
    "\n",
    "# Plot negative contributions\n",
    "plt.figure(figsize=(10, 6))\n",
    "sns.barplot(x='Importance', y='Feature', data=negative_contributions, color='red')\n",
    "plt.title('Negative Feature Importance')\n",
    "plt.show()"
   ]
  },
  {
   "cell_type": "markdown",
   "id": "a4e5b7ca",
   "metadata": {},
   "source": [
    "The feature importance for the dataset for risk of recidivism also shows that the ethnicity of African American & Native American have a high positive importance, meaning that it is more likely to show a \"high\" target variable when the ethnic is African American or Native American"
   ]
  },
  {
   "cell_type": "markdown",
   "id": "9c14eb69",
   "metadata": {},
   "source": [
    "As for risk of failure, I think it is irrelevant to run the model as risk of failure just says that the inmates did not show up for the trial which is not that useful to us"
   ]
  },
  {
   "cell_type": "markdown",
   "id": "a90972ff",
   "metadata": {},
   "source": [
    "## Further Exploration"
   ]
  },
  {
   "cell_type": "code",
   "execution_count": 65,
   "id": "0c412277",
   "metadata": {},
   "outputs": [
    {
     "name": "stdout",
     "output_type": "stream",
     "text": [
      "<class 'pandas.core.frame.DataFrame'>\n",
      "RangeIndex: 312 entries, 0 to 311\n",
      "Data columns (total 14 columns):\n",
      " #   Column               Non-Null Count  Dtype \n",
      "---  ------               --------------  ----- \n",
      " 0   Agency_Text          312 non-null    object\n",
      " 1   Sex_Code_Text        312 non-null    object\n",
      " 2   Ethnic_Code_Text     312 non-null    object\n",
      " 3   ScaleSet             312 non-null    object\n",
      " 4   Language             312 non-null    object\n",
      " 5   LegalStatus          312 non-null    object\n",
      " 6   CustodyStatus        312 non-null    object\n",
      " 7   MaritalStatus        312 non-null    object\n",
      " 8   RecSupervisionLevel  312 non-null    int64 \n",
      " 9   DisplayText          312 non-null    object\n",
      " 10  RawScore             312 non-null    int64 \n",
      " 11  DecileScore          312 non-null    int64 \n",
      " 12  ScoreText            312 non-null    object\n",
      " 13  AgeGroup             312 non-null    int64 \n",
      "dtypes: int64(4), object(10)\n",
      "memory usage: 34.2+ KB\n"
     ]
    }
   ],
   "source": [
    "df_homogeneous = pd.read_csv('data/homogeneous.csv')\n",
    "\n",
    "df_homogeneous.info()"
   ]
  },
  {
   "cell_type": "code",
   "execution_count": 66,
   "id": "e6133e5a",
   "metadata": {},
   "outputs": [
    {
     "name": "stdout",
     "output_type": "stream",
     "text": [
      "<class 'pandas.core.frame.DataFrame'>\n",
      "RangeIndex: 312 entries, 0 to 311\n",
      "Data columns (total 35 columns):\n",
      " #   Column                             Non-Null Count  Dtype \n",
      "---  ------                             --------------  ----- \n",
      " 0   RecSupervisionLevel                312 non-null    int64 \n",
      " 1   RawScore                           312 non-null    int64 \n",
      " 2   DecileScore                        312 non-null    int64 \n",
      " 3   ScoreText                          312 non-null    object\n",
      " 4   AgeGroup                           312 non-null    int64 \n",
      " 5   Agency_Text_Broward County         312 non-null    bool  \n",
      " 6   Agency_Text_PRETRIAL               312 non-null    bool  \n",
      " 7   Agency_Text_Probation              312 non-null    bool  \n",
      " 8   Sex_Code_Text_Female               312 non-null    bool  \n",
      " 9   Sex_Code_Text_Male                 312 non-null    bool  \n",
      " 10  Ethnic_Code_Text_African-American  312 non-null    bool  \n",
      " 11  Ethnic_Code_Text_Arabic            312 non-null    bool  \n",
      " 12  Ethnic_Code_Text_Asian             312 non-null    bool  \n",
      " 13  Ethnic_Code_Text_Caucasian         312 non-null    bool  \n",
      " 14  Ethnic_Code_Text_Hispanic          312 non-null    bool  \n",
      " 15  Ethnic_Code_Text_Native American   312 non-null    bool  \n",
      " 16  Ethnic_Code_Text_Oriental          312 non-null    bool  \n",
      " 17  Ethnic_Code_Text_Other             312 non-null    bool  \n",
      " 18  ScaleSet_All Scales                312 non-null    bool  \n",
      " 19  ScaleSet_Risk and Prescreen        312 non-null    bool  \n",
      " 20  Language_English                   312 non-null    bool  \n",
      " 21  Language_Spanish                   312 non-null    bool  \n",
      " 22  LegalStatus_Conditional Release    312 non-null    bool  \n",
      " 23  LegalStatus_Other                  312 non-null    bool  \n",
      " 24  LegalStatus_Post Sentence          312 non-null    bool  \n",
      " 25  LegalStatus_Pretrial               312 non-null    bool  \n",
      " 26  CustodyStatus_Jail Inmate          312 non-null    bool  \n",
      " 27  CustodyStatus_Pretrial Defendant   312 non-null    bool  \n",
      " 28  CustodyStatus_Probation            312 non-null    bool  \n",
      " 29  MaritalStatus_Divorced             312 non-null    bool  \n",
      " 30  MaritalStatus_Married              312 non-null    bool  \n",
      " 31  MaritalStatus_Separated            312 non-null    bool  \n",
      " 32  MaritalStatus_Significant Other    312 non-null    bool  \n",
      " 33  MaritalStatus_Single               312 non-null    bool  \n",
      " 34  DisplayText_Risk of Recidivism     312 non-null    bool  \n",
      "dtypes: bool(30), int64(4), object(1)\n",
      "memory usage: 21.5+ KB\n"
     ]
    }
   ],
   "source": [
    "df_OHE_homogeneous = df_homogeneous\n",
    "df_encoded = pd.get_dummies(df_OHE_homogeneous, columns=['Agency_Text','Sex_Code_Text','Ethnic_Code_Text','ScaleSet','Language','LegalStatus','CustodyStatus','MaritalStatus','DisplayText'])\n",
    "df_encoded.info()"
   ]
  },
  {
   "cell_type": "code",
   "execution_count": 67,
   "id": "cb7579e0",
   "metadata": {},
   "outputs": [
    {
     "name": "stdout",
     "output_type": "stream",
     "text": [
      "<class 'pandas.core.frame.DataFrame'>\n",
      "RangeIndex: 312 entries, 0 to 311\n",
      "Data columns (total 31 columns):\n",
      " #   Column                             Non-Null Count  Dtype \n",
      "---  ------                             --------------  ----- \n",
      " 0   ScoreText                          312 non-null    object\n",
      " 1   AgeGroup                           312 non-null    int64 \n",
      " 2   Agency_Text_Broward County         312 non-null    bool  \n",
      " 3   Agency_Text_PRETRIAL               312 non-null    bool  \n",
      " 4   Agency_Text_Probation              312 non-null    bool  \n",
      " 5   Sex_Code_Text_Female               312 non-null    bool  \n",
      " 6   Sex_Code_Text_Male                 312 non-null    bool  \n",
      " 7   Ethnic_Code_Text_African-American  312 non-null    bool  \n",
      " 8   Ethnic_Code_Text_Arabic            312 non-null    bool  \n",
      " 9   Ethnic_Code_Text_Asian             312 non-null    bool  \n",
      " 10  Ethnic_Code_Text_Caucasian         312 non-null    bool  \n",
      " 11  Ethnic_Code_Text_Hispanic          312 non-null    bool  \n",
      " 12  Ethnic_Code_Text_Native American   312 non-null    bool  \n",
      " 13  Ethnic_Code_Text_Oriental          312 non-null    bool  \n",
      " 14  Ethnic_Code_Text_Other             312 non-null    bool  \n",
      " 15  ScaleSet_All Scales                312 non-null    bool  \n",
      " 16  ScaleSet_Risk and Prescreen        312 non-null    bool  \n",
      " 17  Language_English                   312 non-null    bool  \n",
      " 18  Language_Spanish                   312 non-null    bool  \n",
      " 19  LegalStatus_Conditional Release    312 non-null    bool  \n",
      " 20  LegalStatus_Other                  312 non-null    bool  \n",
      " 21  LegalStatus_Post Sentence          312 non-null    bool  \n",
      " 22  LegalStatus_Pretrial               312 non-null    bool  \n",
      " 23  CustodyStatus_Jail Inmate          312 non-null    bool  \n",
      " 24  CustodyStatus_Pretrial Defendant   312 non-null    bool  \n",
      " 25  CustodyStatus_Probation            312 non-null    bool  \n",
      " 26  MaritalStatus_Divorced             312 non-null    bool  \n",
      " 27  MaritalStatus_Married              312 non-null    bool  \n",
      " 28  MaritalStatus_Separated            312 non-null    bool  \n",
      " 29  MaritalStatus_Significant Other    312 non-null    bool  \n",
      " 30  MaritalStatus_Single               312 non-null    bool  \n",
      "dtypes: bool(29), int64(1), object(1)\n",
      "memory usage: 13.8+ KB\n"
     ]
    }
   ],
   "source": [
    "columns_to_drop_homog = ['RecSupervisionLevel','DecileScore','RawScore','DisplayText_Risk of Recidivism']\n",
    "df_dropped_homog = df_encoded.drop(columns=columns_to_drop_homog)\n",
    "df_dropped_homog.info()"
   ]
  },
  {
   "cell_type": "code",
   "execution_count": 68,
   "id": "176821a8",
   "metadata": {},
   "outputs": [],
   "source": [
    "from sklearn.model_selection import train_test_split\n",
    "\n",
    "target_column = 'ScoreText'\n",
    "\n",
    "X = df_dropped_homog.loc[:, df_dropped_homog.columns != target_column]\n",
    "y = df_dropped_homog[target_column]\n",
    "\n",
    "X_train, X_test, y_train, y_test = train_test_split(X, y, test_size=0.4, random_state=42)"
   ]
  },
  {
   "cell_type": "code",
   "execution_count": 69,
   "id": "85854cdc",
   "metadata": {},
   "outputs": [
    {
     "name": "stderr",
     "output_type": "stream",
     "text": [
      "C:\\Users\\Keith\\anaconda3\\lib\\site-packages\\sklearn\\linear_model\\_sag.py:328: ConvergenceWarning: The max_iter was reached which means the coef_ did not converge\n",
      "  warnings.warn(\"The max_iter was reached which means \"\n"
     ]
    },
    {
     "data": {
      "text/plain": [
       "LogisticRegression(solver='sag')"
      ]
     },
     "execution_count": 69,
     "metadata": {},
     "output_type": "execute_result"
    }
   ],
   "source": [
    "logistic_model_homog = LogisticRegression(solver='sag', max_iter=100)\n",
    "\n",
    "logistic_model_homog.fit(X_train,y_train)"
   ]
  },
  {
   "cell_type": "code",
   "execution_count": 70,
   "id": "f9034cce",
   "metadata": {},
   "outputs": [
    {
     "name": "stdout",
     "output_type": "stream",
     "text": [
      "Train Set - Actual vs Predicted:\n",
      "     Actual Predicted\n",
      "272     Low       Low\n",
      "154     Low       Low\n",
      "268     Low       Low\n",
      "221    High       Low\n",
      "218  Medium    Medium\n",
      "..      ...       ...\n",
      "188     Low       Low\n",
      "71      Low       Low\n",
      "106     Low       Low\n",
      "270     Low       Low\n",
      "102     Low       Low\n",
      "\n",
      "[187 rows x 2 columns]\n",
      "\n",
      "Test Set - Actual vs Predicted:\n",
      "     Actual Predicted\n",
      "228     Low    Medium\n",
      "9      High       Low\n",
      "57      Low       Low\n",
      "60      Low       Low\n",
      "25      Low       Low\n",
      "..      ...       ...\n",
      "96      Low       Low\n",
      "140     Low       Low\n",
      "176     Low       Low\n",
      "86   Medium       Low\n",
      "262     Low       Low\n",
      "\n",
      "[125 rows x 2 columns]\n",
      "\n",
      "Train Accuracy: 77.01%\n",
      "Test Accuracy: 71.20%\n"
     ]
    }
   ],
   "source": [
    "y_train_pred = logistic_model_homog.predict(X_train)\n",
    "\n",
    "y_test_pred = logistic_model_homog.predict(X_test)\n",
    "\n",
    "train_comparison = pd.DataFrame({'Actual': y_train, 'Predicted': y_train_pred})\n",
    "test_comparison = pd.DataFrame({'Actual': y_test, 'Predicted': y_test_pred})\n",
    "\n",
    "\n",
    "print(\"Train Set - Actual vs Predicted:\")\n",
    "print(train_comparison)\n",
    "\n",
    "print(\"\\nTest Set - Actual vs Predicted:\")\n",
    "print(test_comparison)\n",
    "\n",
    "accuracy_train = accuracy_score(y_train, y_train_pred)\n",
    "accuracy_test = accuracy_score(y_test, y_test_pred)\n",
    "\n",
    "print('\\nTrain Accuracy: {:.2f}%'.format(accuracy_train * 100))\n",
    "print('Test Accuracy: {:.2f}%'.format(accuracy_test * 100))"
   ]
  },
  {
   "cell_type": "code",
   "execution_count": 71,
   "id": "c6c4ce5e",
   "metadata": {},
   "outputs": [
    {
     "name": "stdout",
     "output_type": "stream",
     "text": [
      "Coefficients:\n",
      "AgeGroup: -0.3220943095617624\n",
      "Agency_Text_Broward County: -0.07325439176188352\n",
      "Agency_Text_PRETRIAL: -0.0788847517929586\n",
      "Agency_Text_Probation: 0.14631107118466757\n",
      "Sex_Code_Text_Female: -0.135510524857426\n",
      "Sex_Code_Text_Male: 0.12968245248725158\n",
      "Ethnic_Code_Text_African-American: -0.15427059835577425\n",
      "Ethnic_Code_Text_Arabic: 0.6486956201219363\n",
      "Ethnic_Code_Text_Asian: 0.026326455446483828\n",
      "Ethnic_Code_Text_Caucasian: -0.06532290993037451\n",
      "Ethnic_Code_Text_Hispanic: -0.2584764085725234\n",
      "Ethnic_Code_Text_Native American: 0.267460925797509\n",
      "Ethnic_Code_Text_Oriental: -0.5426178080408084\n",
      "Ethnic_Code_Text_Other: 0.07237665116337785\n",
      "ScaleSet_All Scales: -0.08822448415384984\n",
      "ScaleSet_Risk and Prescreen: 0.08239641178367936\n",
      "Language_English: -0.005828072370173185\n",
      "Language_Spanish: 0.0\n",
      "LegalStatus_Conditional Release: -0.04416579572663571\n",
      "LegalStatus_Other: 0.4635931613670239\n",
      "LegalStatus_Post Sentence: -0.3152389364902691\n",
      "LegalStatus_Pretrial: -0.11001650152029545\n",
      "CustodyStatus_Jail Inmate: -0.0005815165732708205\n",
      "CustodyStatus_Pretrial Defendant: -0.16381839694930245\n",
      "CustodyStatus_Probation: 0.15857184115239822\n",
      "MaritalStatus_Divorced: -0.1005582929358021\n",
      "MaritalStatus_Married: -0.43091841703533906\n",
      "MaritalStatus_Separated: -0.0692576575146148\n",
      "MaritalStatus_Significant Other: -0.043772403404034314\n",
      "MaritalStatus_Single: 0.6386786985196143\n"
     ]
    },
    {
     "data": {
      "image/png": "[encoded data removed]",
      "text/plain": [
       "<Figure size 720x432 with 1 Axes>"
      ]
     },
     "metadata": {
      "needs_background": "light"
     },
     "output_type": "display_data"
    },
    {
     "data": {
      "image/png": "[encoded data removed]",
      "text/plain": [
       "<Figure size 720x432 with 1 Axes>"
      ]
     },
     "metadata": {
      "needs_background": "light"
     },
     "output_type": "display_data"
    }
   ],
   "source": [
    "coefficients = logistic_model_homog.coef_\n",
    "\n",
    "print(\"Coefficients:\")\n",
    "for i, feature in enumerate(X.columns):\n",
    "    print(f\"{feature}: {coefficients[0, i]}\")\n",
    "    \n",
    "# Calculate mean using absolute values\n",
    "avg_importance_abs = np.mean(np.abs(coefficients), axis=0)\n",
    "\n",
    "# Create a DataFrame with Feature, Absolute Importance, and Sign\n",
    "feature_importance = pd.DataFrame({'Feature': X.columns, 'Importance': avg_importance_abs, 'Sign': np.sign(coefficients[0])})\n",
    "\n",
    "# Sort the DataFrame based on absolute importance\n",
    "feature_importance = feature_importance.sort_values('Importance', ascending=True)\n",
    "\n",
    "# Separate positive and negative contributions\n",
    "positive_contributions = feature_importance[feature_importance['Sign'] > 0]\n",
    "negative_contributions = feature_importance[feature_importance['Sign'] < 0]\n",
    "\n",
    "# Plot positive contributions\n",
    "plt.figure(figsize=(10, 6))\n",
    "sns.barplot(x='Importance', y='Feature', data=positive_contributions, color='green')\n",
    "plt.title('Positive Feature Importance')\n",
    "plt.show()\n",
    "\n",
    "# Plot negative contributions\n",
    "plt.figure(figsize=(10, 6))\n",
    "sns.barplot(x='Importance', y='Feature', data=negative_contributions, color='red')\n",
    "plt.title('Negative Feature Importance')\n",
    "plt.show()\n"
   ]
  },
  {
   "cell_type": "code",
   "execution_count": null,
   "id": "eba5e1a3",
   "metadata": {},
   "outputs": [],
   "source": []
  }
 ],
 "metadata": {
  "kernelspec": {
   "display_name": "Python 3 (ipykernel)",
   "language": "python",
   "name": "python3"
  },
  "language_info": {
   "codemirror_mode": {
    "name": "ipython",
    "version": 3
   },
   "file_extension": ".py",
   "mimetype": "text/x-python",
   "name": "python",
   "nbconvert_exporter": "python",
   "pygments_lexer": "ipython3",
   "version": "3.9.7"
  }
 },
 "nbformat": 4,
 "nbformat_minor": 5
}
